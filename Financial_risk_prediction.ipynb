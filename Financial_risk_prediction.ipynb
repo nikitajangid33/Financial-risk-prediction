{
  "nbformat": 4,
  "nbformat_minor": 0,
  "metadata": {
    "kernelspec": {
      "display_name": "Python 3",
      "language": "python",
      "name": "python3"
    },
    "language_info": {
      "codemirror_mode": {
        "name": "ipython",
        "version": 3
      },
      "file_extension": ".py",
      "mimetype": "text/x-python",
      "name": "python",
      "nbconvert_exporter": "python",
      "pygments_lexer": "ipython3",
      "version": "3.7.4"
    },
    "colab": {
      "name": " Financial_risk_prediction.ipynb",
      "provenance": []
    }
  },
  "cells": [
    {
      "cell_type": "code",
      "metadata": {
        "id": "wheEssSFzb0T"
      },
      "source": [
        "import pandas as pd\n",
        "import numpy as np\n",
        "from matplotlib import pyplot  as plt\n",
        "import seaborn as sb\n",
        "import datetime as dt\n",
        "from sklearn.model_selection import train_test_split\n",
        "from sklearn.linear_model import LinearRegression\n",
        "from sklearn.metrics import mean_squared_error\n",
        "from math import sqrt\n",
        "from sklearn.model_selection import cross_val_score\n",
        "from sklearn.naive_bayes import GaussianNB\n",
        "import sklearn.metrics as metrics"
      ],
      "execution_count": null,
      "outputs": []
    },
    {
      "cell_type": "code",
      "metadata": {
        "id": "31QqhwgK0oU_",
        "colab": {
          "resources": {
            "http://localhost:8080/nbextensions/google.colab/files.js": {
              "data": "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",
              "ok": true,
              "headers": [
                [
                  "content-type",
                  "application/javascript"
                ]
              ],
              "status": 200,
              "status_text": ""
            }
          },
          "base_uri": "https://localhost:8080/",
          "height": 73
        },
        "outputId": "833ede88-a126-4961-86e2-f781d9fd1f55"
      },
      "source": [
        "from google.colab import files\n",
        "uploaded = files.upload()"
      ],
      "execution_count": null,
      "outputs": [
        {
          "output_type": "display_data",
          "data": {
            "text/html": [
              "\n",
              "     <input type=\"file\" id=\"files-ff56ab60-0aff-4f10-86fb-50154c10d91b\" name=\"files[]\" multiple disabled\n",
              "        style=\"border:none\" />\n",
              "     <output id=\"result-ff56ab60-0aff-4f10-86fb-50154c10d91b\">\n",
              "      Upload widget is only available when the cell has been executed in the\n",
              "      current browser session. Please rerun this cell to enable.\n",
              "      </output>\n",
              "      <script src=\"/nbextensions/google.colab/files.js\"></script> "
            ],
            "text/plain": [
              "<IPython.core.display.HTML object>"
            ]
          },
          "metadata": {
            "tags": []
          }
        },
        {
          "output_type": "stream",
          "text": [
            "Saving Train.csv to Train.csv\n"
          ],
          "name": "stdout"
        }
      ]
    },
    {
      "cell_type": "code",
      "metadata": {
        "id": "KBaL0ppO00Ph"
      },
      "source": [
        "import io\n",
        "data = io.BytesIO(uploaded['Train.csv']) "
      ],
      "execution_count": null,
      "outputs": []
    },
    {
      "cell_type": "code",
      "metadata": {
        "id": "Iud48gBezb0v",
        "colab": {
          "base_uri": "https://localhost:8080/",
          "height": 204
        },
        "outputId": "08202c42-2e22-436b-a866-7843f0929e4b"
      },
      "source": [
        "#Read train dataset\n",
        "import pandas as pd   \n",
        "data = pd.read_csv('Train.csv', header = 0)\n",
        "data.head()"
      ],
      "execution_count": null,
      "outputs": [
        {
          "output_type": "execute_result",
          "data": {
            "text/html": [
              "<div>\n",
              "<style scoped>\n",
              "    .dataframe tbody tr th:only-of-type {\n",
              "        vertical-align: middle;\n",
              "    }\n",
              "\n",
              "    .dataframe tbody tr th {\n",
              "        vertical-align: top;\n",
              "    }\n",
              "\n",
              "    .dataframe thead th {\n",
              "        text-align: right;\n",
              "    }\n",
              "</style>\n",
              "<table border=\"1\" class=\"dataframe\">\n",
              "  <thead>\n",
              "    <tr style=\"text-align: right;\">\n",
              "      <th></th>\n",
              "      <th>City</th>\n",
              "      <th>Location_Score</th>\n",
              "      <th>Internal_Audit_Score</th>\n",
              "      <th>External_Audit_Score</th>\n",
              "      <th>Fin_Score</th>\n",
              "      <th>Loss_score</th>\n",
              "      <th>Past_Results</th>\n",
              "      <th>IsUnderRisk</th>\n",
              "    </tr>\n",
              "  </thead>\n",
              "  <tbody>\n",
              "    <tr>\n",
              "      <th>0</th>\n",
              "      <td>2</td>\n",
              "      <td>8.032</td>\n",
              "      <td>14</td>\n",
              "      <td>8</td>\n",
              "      <td>3</td>\n",
              "      <td>6</td>\n",
              "      <td>0</td>\n",
              "      <td>1</td>\n",
              "    </tr>\n",
              "    <tr>\n",
              "      <th>1</th>\n",
              "      <td>31</td>\n",
              "      <td>77.730</td>\n",
              "      <td>8</td>\n",
              "      <td>3</td>\n",
              "      <td>3</td>\n",
              "      <td>8</td>\n",
              "      <td>1</td>\n",
              "      <td>0</td>\n",
              "    </tr>\n",
              "    <tr>\n",
              "      <th>2</th>\n",
              "      <td>40</td>\n",
              "      <td>59.203</td>\n",
              "      <td>3</td>\n",
              "      <td>12</td>\n",
              "      <td>11</td>\n",
              "      <td>3</td>\n",
              "      <td>0</td>\n",
              "      <td>1</td>\n",
              "    </tr>\n",
              "    <tr>\n",
              "      <th>3</th>\n",
              "      <td>12</td>\n",
              "      <td>73.080</td>\n",
              "      <td>4</td>\n",
              "      <td>5</td>\n",
              "      <td>7</td>\n",
              "      <td>6</td>\n",
              "      <td>0</td>\n",
              "      <td>0</td>\n",
              "    </tr>\n",
              "    <tr>\n",
              "      <th>4</th>\n",
              "      <td>4</td>\n",
              "      <td>15.666</td>\n",
              "      <td>13</td>\n",
              "      <td>15</td>\n",
              "      <td>6</td>\n",
              "      <td>7</td>\n",
              "      <td>2</td>\n",
              "      <td>1</td>\n",
              "    </tr>\n",
              "  </tbody>\n",
              "</table>\n",
              "</div>"
            ],
            "text/plain": [
              "   City  Location_Score  ...  Past_Results  IsUnderRisk\n",
              "0     2           8.032  ...             0            1\n",
              "1    31          77.730  ...             1            0\n",
              "2    40          59.203  ...             0            1\n",
              "3    12          73.080  ...             0            0\n",
              "4     4          15.666  ...             2            1\n",
              "\n",
              "[5 rows x 8 columns]"
            ]
          },
          "metadata": {
            "tags": []
          },
          "execution_count": 5
        }
      ]
    },
    {
      "cell_type": "code",
      "metadata": {
        "id": "7Zti4Ttmzb1I",
        "colab": {
          "base_uri": "https://localhost:8080/",
          "height": 208
        },
        "outputId": "c4825a9f-5ce6-4548-bd7c-c8ce79e9ae98"
      },
      "source": [
        "corr = data.corr()\n",
        "corr.style.background_gradient(cmap='coolwarm')"
      ],
      "execution_count": null,
      "outputs": [
        {
          "output_type": "execute_result",
          "data": {
            "text/html": [
              "<style  type=\"text/css\" >\n",
              "#T_b67fa3b6_ebcd_11eb_90e4_0242ac1c0002row0_col0,#T_b67fa3b6_ebcd_11eb_90e4_0242ac1c0002row1_col1,#T_b67fa3b6_ebcd_11eb_90e4_0242ac1c0002row2_col2,#T_b67fa3b6_ebcd_11eb_90e4_0242ac1c0002row3_col3,#T_b67fa3b6_ebcd_11eb_90e4_0242ac1c0002row4_col4,#T_b67fa3b6_ebcd_11eb_90e4_0242ac1c0002row5_col5,#T_b67fa3b6_ebcd_11eb_90e4_0242ac1c0002row6_col6,#T_b67fa3b6_ebcd_11eb_90e4_0242ac1c0002row7_col7{\n",
              "            background-color:  #b40426;\n",
              "            color:  #f1f1f1;\n",
              "        }#T_b67fa3b6_ebcd_11eb_90e4_0242ac1c0002row0_col1{\n",
              "            background-color:  #a1c0ff;\n",
              "            color:  #000000;\n",
              "        }#T_b67fa3b6_ebcd_11eb_90e4_0242ac1c0002row0_col2,#T_b67fa3b6_ebcd_11eb_90e4_0242ac1c0002row6_col1{\n",
              "            background-color:  #8badfd;\n",
              "            color:  #000000;\n",
              "        }#T_b67fa3b6_ebcd_11eb_90e4_0242ac1c0002row0_col3{\n",
              "            background-color:  #6384eb;\n",
              "            color:  #000000;\n",
              "        }#T_b67fa3b6_ebcd_11eb_90e4_0242ac1c0002row0_col4{\n",
              "            background-color:  #7093f3;\n",
              "            color:  #000000;\n",
              "        }#T_b67fa3b6_ebcd_11eb_90e4_0242ac1c0002row0_col5{\n",
              "            background-color:  #5a78e4;\n",
              "            color:  #000000;\n",
              "        }#T_b67fa3b6_ebcd_11eb_90e4_0242ac1c0002row0_col6{\n",
              "            background-color:  #506bda;\n",
              "            color:  #000000;\n",
              "        }#T_b67fa3b6_ebcd_11eb_90e4_0242ac1c0002row0_col7{\n",
              "            background-color:  #88abfd;\n",
              "            color:  #000000;\n",
              "        }#T_b67fa3b6_ebcd_11eb_90e4_0242ac1c0002row1_col0{\n",
              "            background-color:  #5673e0;\n",
              "            color:  #000000;\n",
              "        }#T_b67fa3b6_ebcd_11eb_90e4_0242ac1c0002row1_col2,#T_b67fa3b6_ebcd_11eb_90e4_0242ac1c0002row1_col3,#T_b67fa3b6_ebcd_11eb_90e4_0242ac1c0002row1_col4,#T_b67fa3b6_ebcd_11eb_90e4_0242ac1c0002row1_col6,#T_b67fa3b6_ebcd_11eb_90e4_0242ac1c0002row1_col7,#T_b67fa3b6_ebcd_11eb_90e4_0242ac1c0002row4_col5,#T_b67fa3b6_ebcd_11eb_90e4_0242ac1c0002row7_col0,#T_b67fa3b6_ebcd_11eb_90e4_0242ac1c0002row7_col1{\n",
              "            background-color:  #3b4cc0;\n",
              "            color:  #f1f1f1;\n",
              "        }#T_b67fa3b6_ebcd_11eb_90e4_0242ac1c0002row1_col5,#T_b67fa3b6_ebcd_11eb_90e4_0242ac1c0002row3_col0,#T_b67fa3b6_ebcd_11eb_90e4_0242ac1c0002row4_col0{\n",
              "            background-color:  #445acc;\n",
              "            color:  #f1f1f1;\n",
              "        }#T_b67fa3b6_ebcd_11eb_90e4_0242ac1c0002row2_col0{\n",
              "            background-color:  #4b64d5;\n",
              "            color:  #f1f1f1;\n",
              "        }#T_b67fa3b6_ebcd_11eb_90e4_0242ac1c0002row2_col1{\n",
              "            background-color:  #485fd1;\n",
              "            color:  #f1f1f1;\n",
              "        }#T_b67fa3b6_ebcd_11eb_90e4_0242ac1c0002row2_col3{\n",
              "            background-color:  #e9d5cb;\n",
              "            color:  #000000;\n",
              "        }#T_b67fa3b6_ebcd_11eb_90e4_0242ac1c0002row2_col4{\n",
              "            background-color:  #dcdddd;\n",
              "            color:  #000000;\n",
              "        }#T_b67fa3b6_ebcd_11eb_90e4_0242ac1c0002row2_col5{\n",
              "            background-color:  #536edd;\n",
              "            color:  #000000;\n",
              "        }#T_b67fa3b6_ebcd_11eb_90e4_0242ac1c0002row2_col6{\n",
              "            background-color:  #7295f4;\n",
              "            color:  #000000;\n",
              "        }#T_b67fa3b6_ebcd_11eb_90e4_0242ac1c0002row2_col7{\n",
              "            background-color:  #f7a98b;\n",
              "            color:  #000000;\n",
              "        }#T_b67fa3b6_ebcd_11eb_90e4_0242ac1c0002row3_col1{\n",
              "            background-color:  #6b8df0;\n",
              "            color:  #000000;\n",
              "        }#T_b67fa3b6_ebcd_11eb_90e4_0242ac1c0002row3_col2{\n",
              "            background-color:  #f2cbb7;\n",
              "            color:  #000000;\n",
              "        }#T_b67fa3b6_ebcd_11eb_90e4_0242ac1c0002row3_col4,#T_b67fa3b6_ebcd_11eb_90e4_0242ac1c0002row4_col7{\n",
              "            background-color:  #ead5c9;\n",
              "            color:  #000000;\n",
              "        }#T_b67fa3b6_ebcd_11eb_90e4_0242ac1c0002row3_col5{\n",
              "            background-color:  #455cce;\n",
              "            color:  #f1f1f1;\n",
              "        }#T_b67fa3b6_ebcd_11eb_90e4_0242ac1c0002row3_col6{\n",
              "            background-color:  #7b9ff9;\n",
              "            color:  #000000;\n",
              "        }#T_b67fa3b6_ebcd_11eb_90e4_0242ac1c0002row3_col7{\n",
              "            background-color:  #f2cab5;\n",
              "            color:  #000000;\n",
              "        }#T_b67fa3b6_ebcd_11eb_90e4_0242ac1c0002row4_col1,#T_b67fa3b6_ebcd_11eb_90e4_0242ac1c0002row5_col0{\n",
              "            background-color:  #5d7ce6;\n",
              "            color:  #000000;\n",
              "        }#T_b67fa3b6_ebcd_11eb_90e4_0242ac1c0002row4_col2,#T_b67fa3b6_ebcd_11eb_90e4_0242ac1c0002row7_col3{\n",
              "            background-color:  #e5d8d1;\n",
              "            color:  #000000;\n",
              "        }#T_b67fa3b6_ebcd_11eb_90e4_0242ac1c0002row4_col3{\n",
              "            background-color:  #e4d9d2;\n",
              "            color:  #000000;\n",
              "        }#T_b67fa3b6_ebcd_11eb_90e4_0242ac1c0002row4_col6{\n",
              "            background-color:  #7a9df8;\n",
              "            color:  #000000;\n",
              "        }#T_b67fa3b6_ebcd_11eb_90e4_0242ac1c0002row5_col1{\n",
              "            background-color:  #93b5fe;\n",
              "            color:  #000000;\n",
              "        }#T_b67fa3b6_ebcd_11eb_90e4_0242ac1c0002row5_col2{\n",
              "            background-color:  #94b6ff;\n",
              "            color:  #000000;\n",
              "        }#T_b67fa3b6_ebcd_11eb_90e4_0242ac1c0002row5_col3{\n",
              "            background-color:  #6687ed;\n",
              "            color:  #000000;\n",
              "        }#T_b67fa3b6_ebcd_11eb_90e4_0242ac1c0002row5_col4,#T_b67fa3b6_ebcd_11eb_90e4_0242ac1c0002row5_col6{\n",
              "            background-color:  #688aef;\n",
              "            color:  #000000;\n",
              "        }#T_b67fa3b6_ebcd_11eb_90e4_0242ac1c0002row5_col7{\n",
              "            background-color:  #a9c6fd;\n",
              "            color:  #000000;\n",
              "        }#T_b67fa3b6_ebcd_11eb_90e4_0242ac1c0002row6_col0{\n",
              "            background-color:  #5470de;\n",
              "            color:  #000000;\n",
              "        }#T_b67fa3b6_ebcd_11eb_90e4_0242ac1c0002row6_col2{\n",
              "            background-color:  #aec9fc;\n",
              "            color:  #000000;\n",
              "        }#T_b67fa3b6_ebcd_11eb_90e4_0242ac1c0002row6_col3{\n",
              "            background-color:  #9abbff;\n",
              "            color:  #000000;\n",
              "        }#T_b67fa3b6_ebcd_11eb_90e4_0242ac1c0002row6_col4{\n",
              "            background-color:  #a5c3fe;\n",
              "            color:  #000000;\n",
              "        }#T_b67fa3b6_ebcd_11eb_90e4_0242ac1c0002row6_col5{\n",
              "            background-color:  #6a8bef;\n",
              "            color:  #000000;\n",
              "        }#T_b67fa3b6_ebcd_11eb_90e4_0242ac1c0002row6_col7{\n",
              "            background-color:  #b6cefa;\n",
              "            color:  #000000;\n",
              "        }#T_b67fa3b6_ebcd_11eb_90e4_0242ac1c0002row7_col2{\n",
              "            background-color:  #f7ad90;\n",
              "            color:  #000000;\n",
              "        }#T_b67fa3b6_ebcd_11eb_90e4_0242ac1c0002row7_col4{\n",
              "            background-color:  #dbdcde;\n",
              "            color:  #000000;\n",
              "        }#T_b67fa3b6_ebcd_11eb_90e4_0242ac1c0002row7_col5{\n",
              "            background-color:  #5e7de7;\n",
              "            color:  #000000;\n",
              "        }#T_b67fa3b6_ebcd_11eb_90e4_0242ac1c0002row7_col6{\n",
              "            background-color:  #6f92f3;\n",
              "            color:  #000000;\n",
              "        }</style><table id=\"T_b67fa3b6_ebcd_11eb_90e4_0242ac1c0002\" ><thead>    <tr>        <th class=\"blank level0\" ></th>        <th class=\"col_heading level0 col0\" >City</th>        <th class=\"col_heading level0 col1\" >Location_Score</th>        <th class=\"col_heading level0 col2\" >Internal_Audit_Score</th>        <th class=\"col_heading level0 col3\" >External_Audit_Score</th>        <th class=\"col_heading level0 col4\" >Fin_Score</th>        <th class=\"col_heading level0 col5\" >Loss_score</th>        <th class=\"col_heading level0 col6\" >Past_Results</th>        <th class=\"col_heading level0 col7\" >IsUnderRisk</th>    </tr></thead><tbody>\n",
              "                <tr>\n",
              "                        <th id=\"T_b67fa3b6_ebcd_11eb_90e4_0242ac1c0002level0_row0\" class=\"row_heading level0 row0\" >City</th>\n",
              "                        <td id=\"T_b67fa3b6_ebcd_11eb_90e4_0242ac1c0002row0_col0\" class=\"data row0 col0\" >1.000000</td>\n",
              "                        <td id=\"T_b67fa3b6_ebcd_11eb_90e4_0242ac1c0002row0_col1\" class=\"data row0 col1\" >0.012551</td>\n",
              "                        <td id=\"T_b67fa3b6_ebcd_11eb_90e4_0242ac1c0002row0_col2\" class=\"data row0 col2\" >-0.024306</td>\n",
              "                        <td id=\"T_b67fa3b6_ebcd_11eb_90e4_0242ac1c0002row0_col3\" class=\"data row0 col3\" >-0.049994</td>\n",
              "                        <td id=\"T_b67fa3b6_ebcd_11eb_90e4_0242ac1c0002row0_col4\" class=\"data row0 col4\" >-0.051779</td>\n",
              "                        <td id=\"T_b67fa3b6_ebcd_11eb_90e4_0242ac1c0002row0_col5\" class=\"data row0 col5\" >0.033183</td>\n",
              "                        <td id=\"T_b67fa3b6_ebcd_11eb_90e4_0242ac1c0002row0_col6\" class=\"data row0 col6\" >0.004762</td>\n",
              "                        <td id=\"T_b67fa3b6_ebcd_11eb_90e4_0242ac1c0002row0_col7\" class=\"data row0 col7\" >-0.087463</td>\n",
              "            </tr>\n",
              "            <tr>\n",
              "                        <th id=\"T_b67fa3b6_ebcd_11eb_90e4_0242ac1c0002level0_row1\" class=\"row_heading level0 row1\" >Location_Score</th>\n",
              "                        <td id=\"T_b67fa3b6_ebcd_11eb_90e4_0242ac1c0002row1_col0\" class=\"data row1 col0\" >0.012551</td>\n",
              "                        <td id=\"T_b67fa3b6_ebcd_11eb_90e4_0242ac1c0002row1_col1\" class=\"data row1 col1\" >1.000000</td>\n",
              "                        <td id=\"T_b67fa3b6_ebcd_11eb_90e4_0242ac1c0002row1_col2\" class=\"data row1 col2\" >-0.358629</td>\n",
              "                        <td id=\"T_b67fa3b6_ebcd_11eb_90e4_0242ac1c0002row1_col3\" class=\"data row1 col3\" >-0.205775</td>\n",
              "                        <td id=\"T_b67fa3b6_ebcd_11eb_90e4_0242ac1c0002row1_col4\" class=\"data row1 col4\" >-0.264536</td>\n",
              "                        <td id=\"T_b67fa3b6_ebcd_11eb_90e4_0242ac1c0002row1_col5\" class=\"data row1 col5\" >-0.042139</td>\n",
              "                        <td id=\"T_b67fa3b6_ebcd_11eb_90e4_0242ac1c0002row1_col6\" class=\"data row1 col6\" >-0.074364</td>\n",
              "                        <td id=\"T_b67fa3b6_ebcd_11eb_90e4_0242ac1c0002row1_col7\" class=\"data row1 col7\" >-0.423956</td>\n",
              "            </tr>\n",
              "            <tr>\n",
              "                        <th id=\"T_b67fa3b6_ebcd_11eb_90e4_0242ac1c0002level0_row2\" class=\"row_heading level0 row2\" >Internal_Audit_Score</th>\n",
              "                        <td id=\"T_b67fa3b6_ebcd_11eb_90e4_0242ac1c0002row2_col0\" class=\"data row2 col0\" >-0.024306</td>\n",
              "                        <td id=\"T_b67fa3b6_ebcd_11eb_90e4_0242ac1c0002row2_col1\" class=\"data row2 col1\" >-0.358629</td>\n",
              "                        <td id=\"T_b67fa3b6_ebcd_11eb_90e4_0242ac1c0002row2_col2\" class=\"data row2 col2\" >1.000000</td>\n",
              "                        <td id=\"T_b67fa3b6_ebcd_11eb_90e4_0242ac1c0002row2_col3\" class=\"data row2 col3\" >0.453839</td>\n",
              "                        <td id=\"T_b67fa3b6_ebcd_11eb_90e4_0242ac1c0002row2_col4\" class=\"data row2 col4\" >0.365133</td>\n",
              "                        <td id=\"T_b67fa3b6_ebcd_11eb_90e4_0242ac1c0002row2_col5\" class=\"data row2 col5\" >0.007685</td>\n",
              "                        <td id=\"T_b67fa3b6_ebcd_11eb_90e4_0242ac1c0002row2_col6\" class=\"data row2 col6\" >0.112093</td>\n",
              "                        <td id=\"T_b67fa3b6_ebcd_11eb_90e4_0242ac1c0002row2_col7\" class=\"data row2 col7\" >0.586097</td>\n",
              "            </tr>\n",
              "            <tr>\n",
              "                        <th id=\"T_b67fa3b6_ebcd_11eb_90e4_0242ac1c0002level0_row3\" class=\"row_heading level0 row3\" >External_Audit_Score</th>\n",
              "                        <td id=\"T_b67fa3b6_ebcd_11eb_90e4_0242ac1c0002row3_col0\" class=\"data row3 col0\" >-0.049994</td>\n",
              "                        <td id=\"T_b67fa3b6_ebcd_11eb_90e4_0242ac1c0002row3_col1\" class=\"data row3 col1\" >-0.205775</td>\n",
              "                        <td id=\"T_b67fa3b6_ebcd_11eb_90e4_0242ac1c0002row3_col2\" class=\"data row3 col2\" >0.453839</td>\n",
              "                        <td id=\"T_b67fa3b6_ebcd_11eb_90e4_0242ac1c0002row3_col3\" class=\"data row3 col3\" >1.000000</td>\n",
              "                        <td id=\"T_b67fa3b6_ebcd_11eb_90e4_0242ac1c0002row3_col4\" class=\"data row3 col4\" >0.433374</td>\n",
              "                        <td id=\"T_b67fa3b6_ebcd_11eb_90e4_0242ac1c0002row3_col5\" class=\"data row3 col5\" >-0.038786</td>\n",
              "                        <td id=\"T_b67fa3b6_ebcd_11eb_90e4_0242ac1c0002row3_col6\" class=\"data row3 col6\" >0.141163</td>\n",
              "                        <td id=\"T_b67fa3b6_ebcd_11eb_90e4_0242ac1c0002row3_col7\" class=\"data row3 col7\" >0.435619</td>\n",
              "            </tr>\n",
              "            <tr>\n",
              "                        <th id=\"T_b67fa3b6_ebcd_11eb_90e4_0242ac1c0002level0_row4\" class=\"row_heading level0 row4\" >Fin_Score</th>\n",
              "                        <td id=\"T_b67fa3b6_ebcd_11eb_90e4_0242ac1c0002row4_col0\" class=\"data row4 col0\" >-0.051779</td>\n",
              "                        <td id=\"T_b67fa3b6_ebcd_11eb_90e4_0242ac1c0002row4_col1\" class=\"data row4 col1\" >-0.264536</td>\n",
              "                        <td id=\"T_b67fa3b6_ebcd_11eb_90e4_0242ac1c0002row4_col2\" class=\"data row4 col2\" >0.365133</td>\n",
              "                        <td id=\"T_b67fa3b6_ebcd_11eb_90e4_0242ac1c0002row4_col3\" class=\"data row4 col3\" >0.433374</td>\n",
              "                        <td id=\"T_b67fa3b6_ebcd_11eb_90e4_0242ac1c0002row4_col4\" class=\"data row4 col4\" >1.000000</td>\n",
              "                        <td id=\"T_b67fa3b6_ebcd_11eb_90e4_0242ac1c0002row4_col5\" class=\"data row4 col5\" >-0.078573</td>\n",
              "                        <td id=\"T_b67fa3b6_ebcd_11eb_90e4_0242ac1c0002row4_col6\" class=\"data row4 col6\" >0.138111</td>\n",
              "                        <td id=\"T_b67fa3b6_ebcd_11eb_90e4_0242ac1c0002row4_col7\" class=\"data row4 col7\" >0.362463</td>\n",
              "            </tr>\n",
              "            <tr>\n",
              "                        <th id=\"T_b67fa3b6_ebcd_11eb_90e4_0242ac1c0002level0_row5\" class=\"row_heading level0 row5\" >Loss_score</th>\n",
              "                        <td id=\"T_b67fa3b6_ebcd_11eb_90e4_0242ac1c0002row5_col0\" class=\"data row5 col0\" >0.033183</td>\n",
              "                        <td id=\"T_b67fa3b6_ebcd_11eb_90e4_0242ac1c0002row5_col1\" class=\"data row5 col1\" >-0.042139</td>\n",
              "                        <td id=\"T_b67fa3b6_ebcd_11eb_90e4_0242ac1c0002row5_col2\" class=\"data row5 col2\" >0.007685</td>\n",
              "                        <td id=\"T_b67fa3b6_ebcd_11eb_90e4_0242ac1c0002row5_col3\" class=\"data row5 col3\" >-0.038786</td>\n",
              "                        <td id=\"T_b67fa3b6_ebcd_11eb_90e4_0242ac1c0002row5_col4\" class=\"data row5 col4\" >-0.078573</td>\n",
              "                        <td id=\"T_b67fa3b6_ebcd_11eb_90e4_0242ac1c0002row5_col5\" class=\"data row5 col5\" >1.000000</td>\n",
              "                        <td id=\"T_b67fa3b6_ebcd_11eb_90e4_0242ac1c0002row5_col6\" class=\"data row5 col6\" >0.081858</td>\n",
              "                        <td id=\"T_b67fa3b6_ebcd_11eb_90e4_0242ac1c0002row5_col7\" class=\"data row5 col7\" >0.044888</td>\n",
              "            </tr>\n",
              "            <tr>\n",
              "                        <th id=\"T_b67fa3b6_ebcd_11eb_90e4_0242ac1c0002level0_row6\" class=\"row_heading level0 row6\" >Past_Results</th>\n",
              "                        <td id=\"T_b67fa3b6_ebcd_11eb_90e4_0242ac1c0002row6_col0\" class=\"data row6 col0\" >0.004762</td>\n",
              "                        <td id=\"T_b67fa3b6_ebcd_11eb_90e4_0242ac1c0002row6_col1\" class=\"data row6 col1\" >-0.074364</td>\n",
              "                        <td id=\"T_b67fa3b6_ebcd_11eb_90e4_0242ac1c0002row6_col2\" class=\"data row6 col2\" >0.112093</td>\n",
              "                        <td id=\"T_b67fa3b6_ebcd_11eb_90e4_0242ac1c0002row6_col3\" class=\"data row6 col3\" >0.141163</td>\n",
              "                        <td id=\"T_b67fa3b6_ebcd_11eb_90e4_0242ac1c0002row6_col4\" class=\"data row6 col4\" >0.138111</td>\n",
              "                        <td id=\"T_b67fa3b6_ebcd_11eb_90e4_0242ac1c0002row6_col5\" class=\"data row6 col5\" >0.081858</td>\n",
              "                        <td id=\"T_b67fa3b6_ebcd_11eb_90e4_0242ac1c0002row6_col6\" class=\"data row6 col6\" >1.000000</td>\n",
              "                        <td id=\"T_b67fa3b6_ebcd_11eb_90e4_0242ac1c0002row6_col7\" class=\"data row6 col7\" >0.102120</td>\n",
              "            </tr>\n",
              "            <tr>\n",
              "                        <th id=\"T_b67fa3b6_ebcd_11eb_90e4_0242ac1c0002level0_row7\" class=\"row_heading level0 row7\" >IsUnderRisk</th>\n",
              "                        <td id=\"T_b67fa3b6_ebcd_11eb_90e4_0242ac1c0002row7_col0\" class=\"data row7 col0\" >-0.087463</td>\n",
              "                        <td id=\"T_b67fa3b6_ebcd_11eb_90e4_0242ac1c0002row7_col1\" class=\"data row7 col1\" >-0.423956</td>\n",
              "                        <td id=\"T_b67fa3b6_ebcd_11eb_90e4_0242ac1c0002row7_col2\" class=\"data row7 col2\" >0.586097</td>\n",
              "                        <td id=\"T_b67fa3b6_ebcd_11eb_90e4_0242ac1c0002row7_col3\" class=\"data row7 col3\" >0.435619</td>\n",
              "                        <td id=\"T_b67fa3b6_ebcd_11eb_90e4_0242ac1c0002row7_col4\" class=\"data row7 col4\" >0.362463</td>\n",
              "                        <td id=\"T_b67fa3b6_ebcd_11eb_90e4_0242ac1c0002row7_col5\" class=\"data row7 col5\" >0.044888</td>\n",
              "                        <td id=\"T_b67fa3b6_ebcd_11eb_90e4_0242ac1c0002row7_col6\" class=\"data row7 col6\" >0.102120</td>\n",
              "                        <td id=\"T_b67fa3b6_ebcd_11eb_90e4_0242ac1c0002row7_col7\" class=\"data row7 col7\" >1.000000</td>\n",
              "            </tr>\n",
              "    </tbody></table>"
            ],
            "text/plain": [
              "<pandas.io.formats.style.Styler at 0x7efc4d6c5910>"
            ]
          },
          "metadata": {
            "tags": []
          },
          "execution_count": 6
        }
      ]
    },
    {
      "cell_type": "code",
      "metadata": {
        "id": "0LuAj6qMmGP-",
        "colab": {
          "base_uri": "https://localhost:8080/",
          "height": 204
        },
        "outputId": "be34e13b-32c1-4ba5-c201-c77252e3e877"
      },
      "source": [
        "X1 = data[['IsUnderRisk','City', 'Location_Score', 'Loss_score','Past_Results']]\n",
        "from sklearn.preprocessing import PolynomialFeatures\n",
        "interaction = PolynomialFeatures(include_bias=False, interaction_only=True)\n",
        "#fitting the interaction effects\n",
        "X_inter = interaction.fit_transform(X1)\n",
        "df_1 = pd.DataFrame(X_inter)\n",
        "df_1.head()\n"
      ],
      "execution_count": null,
      "outputs": [
        {
          "output_type": "execute_result",
          "data": {
            "text/html": [
              "<div>\n",
              "<style scoped>\n",
              "    .dataframe tbody tr th:only-of-type {\n",
              "        vertical-align: middle;\n",
              "    }\n",
              "\n",
              "    .dataframe tbody tr th {\n",
              "        vertical-align: top;\n",
              "    }\n",
              "\n",
              "    .dataframe thead th {\n",
              "        text-align: right;\n",
              "    }\n",
              "</style>\n",
              "<table border=\"1\" class=\"dataframe\">\n",
              "  <thead>\n",
              "    <tr style=\"text-align: right;\">\n",
              "      <th></th>\n",
              "      <th>0</th>\n",
              "      <th>1</th>\n",
              "      <th>2</th>\n",
              "      <th>3</th>\n",
              "      <th>4</th>\n",
              "      <th>5</th>\n",
              "      <th>6</th>\n",
              "      <th>7</th>\n",
              "      <th>8</th>\n",
              "      <th>9</th>\n",
              "      <th>10</th>\n",
              "      <th>11</th>\n",
              "      <th>12</th>\n",
              "      <th>13</th>\n",
              "      <th>14</th>\n",
              "    </tr>\n",
              "  </thead>\n",
              "  <tbody>\n",
              "    <tr>\n",
              "      <th>0</th>\n",
              "      <td>1.0</td>\n",
              "      <td>2.0</td>\n",
              "      <td>8.032</td>\n",
              "      <td>6.0</td>\n",
              "      <td>0.0</td>\n",
              "      <td>2.0</td>\n",
              "      <td>8.032</td>\n",
              "      <td>6.0</td>\n",
              "      <td>0.0</td>\n",
              "      <td>16.064</td>\n",
              "      <td>12.0</td>\n",
              "      <td>0.0</td>\n",
              "      <td>48.192</td>\n",
              "      <td>0.000</td>\n",
              "      <td>0.0</td>\n",
              "    </tr>\n",
              "    <tr>\n",
              "      <th>1</th>\n",
              "      <td>0.0</td>\n",
              "      <td>31.0</td>\n",
              "      <td>77.730</td>\n",
              "      <td>8.0</td>\n",
              "      <td>1.0</td>\n",
              "      <td>0.0</td>\n",
              "      <td>0.000</td>\n",
              "      <td>0.0</td>\n",
              "      <td>0.0</td>\n",
              "      <td>2409.630</td>\n",
              "      <td>248.0</td>\n",
              "      <td>31.0</td>\n",
              "      <td>621.840</td>\n",
              "      <td>77.730</td>\n",
              "      <td>8.0</td>\n",
              "    </tr>\n",
              "    <tr>\n",
              "      <th>2</th>\n",
              "      <td>1.0</td>\n",
              "      <td>40.0</td>\n",
              "      <td>59.203</td>\n",
              "      <td>3.0</td>\n",
              "      <td>0.0</td>\n",
              "      <td>40.0</td>\n",
              "      <td>59.203</td>\n",
              "      <td>3.0</td>\n",
              "      <td>0.0</td>\n",
              "      <td>2368.120</td>\n",
              "      <td>120.0</td>\n",
              "      <td>0.0</td>\n",
              "      <td>177.609</td>\n",
              "      <td>0.000</td>\n",
              "      <td>0.0</td>\n",
              "    </tr>\n",
              "    <tr>\n",
              "      <th>3</th>\n",
              "      <td>0.0</td>\n",
              "      <td>12.0</td>\n",
              "      <td>73.080</td>\n",
              "      <td>6.0</td>\n",
              "      <td>0.0</td>\n",
              "      <td>0.0</td>\n",
              "      <td>0.000</td>\n",
              "      <td>0.0</td>\n",
              "      <td>0.0</td>\n",
              "      <td>876.960</td>\n",
              "      <td>72.0</td>\n",
              "      <td>0.0</td>\n",
              "      <td>438.480</td>\n",
              "      <td>0.000</td>\n",
              "      <td>0.0</td>\n",
              "    </tr>\n",
              "    <tr>\n",
              "      <th>4</th>\n",
              "      <td>1.0</td>\n",
              "      <td>4.0</td>\n",
              "      <td>15.666</td>\n",
              "      <td>7.0</td>\n",
              "      <td>2.0</td>\n",
              "      <td>4.0</td>\n",
              "      <td>15.666</td>\n",
              "      <td>7.0</td>\n",
              "      <td>2.0</td>\n",
              "      <td>62.664</td>\n",
              "      <td>28.0</td>\n",
              "      <td>8.0</td>\n",
              "      <td>109.662</td>\n",
              "      <td>31.332</td>\n",
              "      <td>14.0</td>\n",
              "    </tr>\n",
              "  </tbody>\n",
              "</table>\n",
              "</div>"
            ],
            "text/plain": [
              "    0     1       2    3    4   ...     10    11       12      13    14\n",
              "0  1.0   2.0   8.032  6.0  0.0  ...   12.0   0.0   48.192   0.000   0.0\n",
              "1  0.0  31.0  77.730  8.0  1.0  ...  248.0  31.0  621.840  77.730   8.0\n",
              "2  1.0  40.0  59.203  3.0  0.0  ...  120.0   0.0  177.609   0.000   0.0\n",
              "3  0.0  12.0  73.080  6.0  0.0  ...   72.0   0.0  438.480   0.000   0.0\n",
              "4  1.0   4.0  15.666  7.0  2.0  ...   28.0   8.0  109.662  31.332  14.0\n",
              "\n",
              "[5 rows x 15 columns]"
            ]
          },
          "metadata": {
            "tags": []
          },
          "execution_count": 7
        }
      ]
    },
    {
      "cell_type": "code",
      "metadata": {
        "id": "ASy6i4rinmGi",
        "colab": {
          "base_uri": "https://localhost:8080/",
          "height": 355
        },
        "outputId": "f9f4486a-1a04-48d0-a1f8-6f1b50a8796d"
      },
      "source": [
        "corr_1 = df_1.corr()\n",
        "corr_1.style.background_gradient(cmap='coolwarm')"
      ],
      "execution_count": null,
      "outputs": [
        {
          "output_type": "execute_result",
          "data": {
            "text/html": [
              "<style  type=\"text/css\" >\n",
              "#T_c241bf7c_ebcd_11eb_90e4_0242ac1c0002row0_col0,#T_c241bf7c_ebcd_11eb_90e4_0242ac1c0002row1_col1,#T_c241bf7c_ebcd_11eb_90e4_0242ac1c0002row2_col2,#T_c241bf7c_ebcd_11eb_90e4_0242ac1c0002row3_col3,#T_c241bf7c_ebcd_11eb_90e4_0242ac1c0002row4_col4,#T_c241bf7c_ebcd_11eb_90e4_0242ac1c0002row5_col5,#T_c241bf7c_ebcd_11eb_90e4_0242ac1c0002row6_col6,#T_c241bf7c_ebcd_11eb_90e4_0242ac1c0002row7_col7,#T_c241bf7c_ebcd_11eb_90e4_0242ac1c0002row8_col8,#T_c241bf7c_ebcd_11eb_90e4_0242ac1c0002row9_col9,#T_c241bf7c_ebcd_11eb_90e4_0242ac1c0002row10_col10,#T_c241bf7c_ebcd_11eb_90e4_0242ac1c0002row11_col11,#T_c241bf7c_ebcd_11eb_90e4_0242ac1c0002row12_col12,#T_c241bf7c_ebcd_11eb_90e4_0242ac1c0002row13_col13,#T_c241bf7c_ebcd_11eb_90e4_0242ac1c0002row14_col14{\n",
              "            background-color:  #b40426;\n",
              "            color:  #f1f1f1;\n",
              "        }#T_c241bf7c_ebcd_11eb_90e4_0242ac1c0002row0_col1,#T_c241bf7c_ebcd_11eb_90e4_0242ac1c0002row0_col2,#T_c241bf7c_ebcd_11eb_90e4_0242ac1c0002row0_col9,#T_c241bf7c_ebcd_11eb_90e4_0242ac1c0002row0_col10,#T_c241bf7c_ebcd_11eb_90e4_0242ac1c0002row0_col12,#T_c241bf7c_ebcd_11eb_90e4_0242ac1c0002row0_col13,#T_c241bf7c_ebcd_11eb_90e4_0242ac1c0002row1_col6,#T_c241bf7c_ebcd_11eb_90e4_0242ac1c0002row2_col0,#T_c241bf7c_ebcd_11eb_90e4_0242ac1c0002row2_col4,#T_c241bf7c_ebcd_11eb_90e4_0242ac1c0002row2_col5,#T_c241bf7c_ebcd_11eb_90e4_0242ac1c0002row2_col7,#T_c241bf7c_ebcd_11eb_90e4_0242ac1c0002row2_col8,#T_c241bf7c_ebcd_11eb_90e4_0242ac1c0002row2_col11,#T_c241bf7c_ebcd_11eb_90e4_0242ac1c0002row2_col14,#T_c241bf7c_ebcd_11eb_90e4_0242ac1c0002row9_col3{\n",
              "            background-color:  #3b4cc0;\n",
              "            color:  #f1f1f1;\n",
              "        }#T_c241bf7c_ebcd_11eb_90e4_0242ac1c0002row0_col3,#T_c241bf7c_ebcd_11eb_90e4_0242ac1c0002row6_col4{\n",
              "            background-color:  #5875e1;\n",
              "            color:  #000000;\n",
              "        }#T_c241bf7c_ebcd_11eb_90e4_0242ac1c0002row0_col4{\n",
              "            background-color:  #6f92f3;\n",
              "            color:  #000000;\n",
              "        }#T_c241bf7c_ebcd_11eb_90e4_0242ac1c0002row0_col5{\n",
              "            background-color:  #f7ad90;\n",
              "            color:  #000000;\n",
              "        }#T_c241bf7c_ebcd_11eb_90e4_0242ac1c0002row0_col6,#T_c241bf7c_ebcd_11eb_90e4_0242ac1c0002row8_col11{\n",
              "            background-color:  #f2c9b4;\n",
              "            color:  #000000;\n",
              "        }#T_c241bf7c_ebcd_11eb_90e4_0242ac1c0002row0_col7,#T_c241bf7c_ebcd_11eb_90e4_0242ac1c0002row2_col12{\n",
              "            background-color:  #d44e41;\n",
              "            color:  #000000;\n",
              "        }#T_c241bf7c_ebcd_11eb_90e4_0242ac1c0002row0_col8{\n",
              "            background-color:  #e2dad5;\n",
              "            color:  #000000;\n",
              "        }#T_c241bf7c_ebcd_11eb_90e4_0242ac1c0002row0_col11,#T_c241bf7c_ebcd_11eb_90e4_0242ac1c0002row1_col3,#T_c241bf7c_ebcd_11eb_90e4_0242ac1c0002row3_col6,#T_c241bf7c_ebcd_11eb_90e4_0242ac1c0002row4_col1,#T_c241bf7c_ebcd_11eb_90e4_0242ac1c0002row9_col7,#T_c241bf7c_ebcd_11eb_90e4_0242ac1c0002row10_col4,#T_c241bf7c_ebcd_11eb_90e4_0242ac1c0002row13_col1{\n",
              "            background-color:  #5470de;\n",
              "            color:  #000000;\n",
              "        }#T_c241bf7c_ebcd_11eb_90e4_0242ac1c0002row0_col14,#T_c241bf7c_ebcd_11eb_90e4_0242ac1c0002row8_col2{\n",
              "            background-color:  #6b8df0;\n",
              "            color:  #000000;\n",
              "        }#T_c241bf7c_ebcd_11eb_90e4_0242ac1c0002row1_col0{\n",
              "            background-color:  #88abfd;\n",
              "            color:  #000000;\n",
              "        }#T_c241bf7c_ebcd_11eb_90e4_0242ac1c0002row1_col2{\n",
              "            background-color:  #a1c0ff;\n",
              "            color:  #000000;\n",
              "        }#T_c241bf7c_ebcd_11eb_90e4_0242ac1c0002row1_col4,#T_c241bf7c_ebcd_11eb_90e4_0242ac1c0002row14_col1,#T_c241bf7c_ebcd_11eb_90e4_0242ac1c0002row14_col6{\n",
              "            background-color:  #506bda;\n",
              "            color:  #000000;\n",
              "        }#T_c241bf7c_ebcd_11eb_90e4_0242ac1c0002row1_col5{\n",
              "            background-color:  #f6bfa6;\n",
              "            color:  #000000;\n",
              "        }#T_c241bf7c_ebcd_11eb_90e4_0242ac1c0002row1_col7,#T_c241bf7c_ebcd_11eb_90e4_0242ac1c0002row3_col8{\n",
              "            background-color:  #86a9fc;\n",
              "            color:  #000000;\n",
              "        }#T_c241bf7c_ebcd_11eb_90e4_0242ac1c0002row1_col8,#T_c241bf7c_ebcd_11eb_90e4_0242ac1c0002row8_col12,#T_c241bf7c_ebcd_11eb_90e4_0242ac1c0002row10_col14{\n",
              "            background-color:  #6788ee;\n",
              "            color:  #000000;\n",
              "        }#T_c241bf7c_ebcd_11eb_90e4_0242ac1c0002row1_col9{\n",
              "            background-color:  #f7a98b;\n",
              "            color:  #000000;\n",
              "        }#T_c241bf7c_ebcd_11eb_90e4_0242ac1c0002row1_col10,#T_c241bf7c_ebcd_11eb_90e4_0242ac1c0002row4_col8{\n",
              "            background-color:  #d95847;\n",
              "            color:  #000000;\n",
              "        }#T_c241bf7c_ebcd_11eb_90e4_0242ac1c0002row1_col11,#T_c241bf7c_ebcd_11eb_90e4_0242ac1c0002row6_col2{\n",
              "            background-color:  #d8dce2;\n",
              "            color:  #000000;\n",
              "        }#T_c241bf7c_ebcd_11eb_90e4_0242ac1c0002row1_col12,#T_c241bf7c_ebcd_11eb_90e4_0242ac1c0002row14_col5{\n",
              "            background-color:  #8caffe;\n",
              "            color:  #000000;\n",
              "        }#T_c241bf7c_ebcd_11eb_90e4_0242ac1c0002row1_col13,#T_c241bf7c_ebcd_11eb_90e4_0242ac1c0002row5_col2,#T_c241bf7c_ebcd_11eb_90e4_0242ac1c0002row8_col3{\n",
              "            background-color:  #6180e9;\n",
              "            color:  #000000;\n",
              "        }#T_c241bf7c_ebcd_11eb_90e4_0242ac1c0002row1_col14{\n",
              "            background-color:  #4b64d5;\n",
              "            color:  #f1f1f1;\n",
              "        }#T_c241bf7c_ebcd_11eb_90e4_0242ac1c0002row2_col1,#T_c241bf7c_ebcd_11eb_90e4_0242ac1c0002row3_col11{\n",
              "            background-color:  #5673e0;\n",
              "            color:  #000000;\n",
              "        }#T_c241bf7c_ebcd_11eb_90e4_0242ac1c0002row2_col3,#T_c241bf7c_ebcd_11eb_90e4_0242ac1c0002row9_col14{\n",
              "            background-color:  #3d50c3;\n",
              "            color:  #f1f1f1;\n",
              "        }#T_c241bf7c_ebcd_11eb_90e4_0242ac1c0002row2_col6{\n",
              "            background-color:  #9bbcff;\n",
              "            color:  #000000;\n",
              "        }#T_c241bf7c_ebcd_11eb_90e4_0242ac1c0002row2_col9{\n",
              "            background-color:  #f7a688;\n",
              "            color:  #000000;\n",
              "        }#T_c241bf7c_ebcd_11eb_90e4_0242ac1c0002row2_col10{\n",
              "            background-color:  #3c4ec2;\n",
              "            color:  #f1f1f1;\n",
              "        }#T_c241bf7c_ebcd_11eb_90e4_0242ac1c0002row2_col13,#T_c241bf7c_ebcd_11eb_90e4_0242ac1c0002row8_col13,#T_c241bf7c_ebcd_11eb_90e4_0242ac1c0002row13_col11{\n",
              "            background-color:  #dddcdc;\n",
              "            color:  #000000;\n",
              "        }#T_c241bf7c_ebcd_11eb_90e4_0242ac1c0002row3_col0,#T_c241bf7c_ebcd_11eb_90e4_0242ac1c0002row14_col3{\n",
              "            background-color:  #a9c6fd;\n",
              "            color:  #000000;\n",
              "        }#T_c241bf7c_ebcd_11eb_90e4_0242ac1c0002row3_col1,#T_c241bf7c_ebcd_11eb_90e4_0242ac1c0002row5_col12{\n",
              "            background-color:  #5d7ce6;\n",
              "            color:  #000000;\n",
              "        }#T_c241bf7c_ebcd_11eb_90e4_0242ac1c0002row3_col2,#T_c241bf7c_ebcd_11eb_90e4_0242ac1c0002row9_col11,#T_c241bf7c_ebcd_11eb_90e4_0242ac1c0002row10_col0{\n",
              "            background-color:  #93b5fe;\n",
              "            color:  #000000;\n",
              "        }#T_c241bf7c_ebcd_11eb_90e4_0242ac1c0002row3_col4{\n",
              "            background-color:  #688aef;\n",
              "            color:  #000000;\n",
              "        }#T_c241bf7c_ebcd_11eb_90e4_0242ac1c0002row3_col5,#T_c241bf7c_ebcd_11eb_90e4_0242ac1c0002row6_col13,#T_c241bf7c_ebcd_11eb_90e4_0242ac1c0002row7_col14{\n",
              "            background-color:  #92b4fe;\n",
              "            color:  #000000;\n",
              "        }#T_c241bf7c_ebcd_11eb_90e4_0242ac1c0002row3_col7,#T_c241bf7c_ebcd_11eb_90e4_0242ac1c0002row5_col1{\n",
              "            background-color:  #f0cdbb;\n",
              "            color:  #000000;\n",
              "        }#T_c241bf7c_ebcd_11eb_90e4_0242ac1c0002row3_col9,#T_c241bf7c_ebcd_11eb_90e4_0242ac1c0002row7_col4,#T_c241bf7c_ebcd_11eb_90e4_0242ac1c0002row14_col9{\n",
              "            background-color:  #7699f6;\n",
              "            color:  #000000;\n",
              "        }#T_c241bf7c_ebcd_11eb_90e4_0242ac1c0002row3_col10{\n",
              "            background-color:  #c9d7f0;\n",
              "            color:  #000000;\n",
              "        }#T_c241bf7c_ebcd_11eb_90e4_0242ac1c0002row3_col12,#T_c241bf7c_ebcd_11eb_90e4_0242ac1c0002row6_col5,#T_c241bf7c_ebcd_11eb_90e4_0242ac1c0002row7_col8,#T_c241bf7c_ebcd_11eb_90e4_0242ac1c0002row12_col13{\n",
              "            background-color:  #dedcdb;\n",
              "            color:  #000000;\n",
              "        }#T_c241bf7c_ebcd_11eb_90e4_0242ac1c0002row3_col13{\n",
              "            background-color:  #7295f4;\n",
              "            color:  #000000;\n",
              "        }#T_c241bf7c_ebcd_11eb_90e4_0242ac1c0002row3_col14,#T_c241bf7c_ebcd_11eb_90e4_0242ac1c0002row6_col9{\n",
              "            background-color:  #abc8fd;\n",
              "            color:  #000000;\n",
              "        }#T_c241bf7c_ebcd_11eb_90e4_0242ac1c0002row4_col0{\n",
              "            background-color:  #b6cefa;\n",
              "            color:  #000000;\n",
              "        }#T_c241bf7c_ebcd_11eb_90e4_0242ac1c0002row4_col2,#T_c241bf7c_ebcd_11eb_90e4_0242ac1c0002row8_col6{\n",
              "            background-color:  #8badfd;\n",
              "            color:  #000000;\n",
              "        }#T_c241bf7c_ebcd_11eb_90e4_0242ac1c0002row4_col3,#T_c241bf7c_ebcd_11eb_90e4_0242ac1c0002row5_col4,#T_c241bf7c_ebcd_11eb_90e4_0242ac1c0002row13_col5{\n",
              "            background-color:  #6384eb;\n",
              "            color:  #000000;\n",
              "        }#T_c241bf7c_ebcd_11eb_90e4_0242ac1c0002row4_col5,#T_c241bf7c_ebcd_11eb_90e4_0242ac1c0002row14_col2{\n",
              "            background-color:  #8db0fe;\n",
              "            color:  #000000;\n",
              "        }#T_c241bf7c_ebcd_11eb_90e4_0242ac1c0002row4_col6,#T_c241bf7c_ebcd_11eb_90e4_0242ac1c0002row12_col0{\n",
              "            background-color:  #4c66d6;\n",
              "            color:  #000000;\n",
              "        }#T_c241bf7c_ebcd_11eb_90e4_0242ac1c0002row4_col7,#T_c241bf7c_ebcd_11eb_90e4_0242ac1c0002row6_col8,#T_c241bf7c_ebcd_11eb_90e4_0242ac1c0002row9_col13{\n",
              "            background-color:  #b1cbfc;\n",
              "            color:  #000000;\n",
              "        }#T_c241bf7c_ebcd_11eb_90e4_0242ac1c0002row4_col9,#T_c241bf7c_ebcd_11eb_90e4_0242ac1c0002row13_col6{\n",
              "            background-color:  #799cf8;\n",
              "            color:  #000000;\n",
              "        }#T_c241bf7c_ebcd_11eb_90e4_0242ac1c0002row4_col10{\n",
              "            background-color:  #4a63d3;\n",
              "            color:  #f1f1f1;\n",
              "        }#T_c241bf7c_ebcd_11eb_90e4_0242ac1c0002row4_col11{\n",
              "            background-color:  #f6a283;\n",
              "            color:  #000000;\n",
              "        }#T_c241bf7c_ebcd_11eb_90e4_0242ac1c0002row4_col12{\n",
              "            background-color:  #85a8fc;\n",
              "            color:  #000000;\n",
              "        }#T_c241bf7c_ebcd_11eb_90e4_0242ac1c0002row4_col13{\n",
              "            background-color:  #f6a586;\n",
              "            color:  #000000;\n",
              "        }#T_c241bf7c_ebcd_11eb_90e4_0242ac1c0002row4_col14,#T_c241bf7c_ebcd_11eb_90e4_0242ac1c0002row14_col4{\n",
              "            background-color:  #cb3e38;\n",
              "            color:  #f1f1f1;\n",
              "        }#T_c241bf7c_ebcd_11eb_90e4_0242ac1c0002row5_col0,#T_c241bf7c_ebcd_11eb_90e4_0242ac1c0002row11_col4{\n",
              "            background-color:  #f5a081;\n",
              "            color:  #000000;\n",
              "        }#T_c241bf7c_ebcd_11eb_90e4_0242ac1c0002row5_col3,#T_c241bf7c_ebcd_11eb_90e4_0242ac1c0002row7_col12,#T_c241bf7c_ebcd_11eb_90e4_0242ac1c0002row12_col10{\n",
              "            background-color:  #6282ea;\n",
              "            color:  #000000;\n",
              "        }#T_c241bf7c_ebcd_11eb_90e4_0242ac1c0002row5_col6{\n",
              "            background-color:  #c1d4f4;\n",
              "            color:  #000000;\n",
              "        }#T_c241bf7c_ebcd_11eb_90e4_0242ac1c0002row5_col7{\n",
              "            background-color:  #f7b194;\n",
              "            color:  #000000;\n",
              "        }#T_c241bf7c_ebcd_11eb_90e4_0242ac1c0002row5_col8{\n",
              "            background-color:  #bcd2f7;\n",
              "            color:  #000000;\n",
              "        }#T_c241bf7c_ebcd_11eb_90e4_0242ac1c0002row5_col9{\n",
              "            background-color:  #a5c3fe;\n",
              "            color:  #000000;\n",
              "        }#T_c241bf7c_ebcd_11eb_90e4_0242ac1c0002row5_col10,#T_c241bf7c_ebcd_11eb_90e4_0242ac1c0002row7_col6{\n",
              "            background-color:  #e9d5cb;\n",
              "            color:  #000000;\n",
              "        }#T_c241bf7c_ebcd_11eb_90e4_0242ac1c0002row5_col11{\n",
              "            background-color:  #b2ccfb;\n",
              "            color:  #000000;\n",
              "        }#T_c241bf7c_ebcd_11eb_90e4_0242ac1c0002row5_col13,#T_c241bf7c_ebcd_11eb_90e4_0242ac1c0002row7_col2,#T_c241bf7c_ebcd_11eb_90e4_0242ac1c0002row7_col13{\n",
              "            background-color:  #485fd1;\n",
              "            color:  #f1f1f1;\n",
              "        }#T_c241bf7c_ebcd_11eb_90e4_0242ac1c0002row5_col14,#T_c241bf7c_ebcd_11eb_90e4_0242ac1c0002row8_col9{\n",
              "            background-color:  #5e7de7;\n",
              "            color:  #000000;\n",
              "        }#T_c241bf7c_ebcd_11eb_90e4_0242ac1c0002row6_col0{\n",
              "            background-color:  #f7a889;\n",
              "            color:  #000000;\n",
              "        }#T_c241bf7c_ebcd_11eb_90e4_0242ac1c0002row6_col1,#T_c241bf7c_ebcd_11eb_90e4_0242ac1c0002row6_col11,#T_c241bf7c_ebcd_11eb_90e4_0242ac1c0002row8_col1,#T_c241bf7c_ebcd_11eb_90e4_0242ac1c0002row9_col8,#T_c241bf7c_ebcd_11eb_90e4_0242ac1c0002row12_col5,#T_c241bf7c_ebcd_11eb_90e4_0242ac1c0002row12_col8{\n",
              "            background-color:  #4961d2;\n",
              "            color:  #f1f1f1;\n",
              "        }#T_c241bf7c_ebcd_11eb_90e4_0242ac1c0002row6_col3,#T_c241bf7c_ebcd_11eb_90e4_0242ac1c0002row6_col14,#T_c241bf7c_ebcd_11eb_90e4_0242ac1c0002row7_col11{\n",
              "            background-color:  #5977e3;\n",
              "            color:  #000000;\n",
              "        }#T_c241bf7c_ebcd_11eb_90e4_0242ac1c0002row6_col7,#T_c241bf7c_ebcd_11eb_90e4_0242ac1c0002row9_col1,#T_c241bf7c_ebcd_11eb_90e4_0242ac1c0002row11_col8{\n",
              "            background-color:  #f7bca1;\n",
              "            color:  #000000;\n",
              "        }#T_c241bf7c_ebcd_11eb_90e4_0242ac1c0002row6_col10,#T_c241bf7c_ebcd_11eb_90e4_0242ac1c0002row8_col10,#T_c241bf7c_ebcd_11eb_90e4_0242ac1c0002row11_col6{\n",
              "            background-color:  #4358cb;\n",
              "            color:  #f1f1f1;\n",
              "        }#T_c241bf7c_ebcd_11eb_90e4_0242ac1c0002row6_col12{\n",
              "            background-color:  #d5dbe5;\n",
              "            color:  #000000;\n",
              "        }#T_c241bf7c_ebcd_11eb_90e4_0242ac1c0002row7_col0{\n",
              "            background-color:  #d24b40;\n",
              "            color:  #f1f1f1;\n",
              "        }#T_c241bf7c_ebcd_11eb_90e4_0242ac1c0002row7_col1{\n",
              "            background-color:  #455cce;\n",
              "            color:  #f1f1f1;\n",
              "        }#T_c241bf7c_ebcd_11eb_90e4_0242ac1c0002row7_col3{\n",
              "            background-color:  #d4dbe6;\n",
              "            color:  #000000;\n",
              "        }#T_c241bf7c_ebcd_11eb_90e4_0242ac1c0002row7_col5,#T_c241bf7c_ebcd_11eb_90e4_0242ac1c0002row13_col14{\n",
              "            background-color:  #f7ba9f;\n",
              "            color:  #000000;\n",
              "        }#T_c241bf7c_ebcd_11eb_90e4_0242ac1c0002row7_col9,#T_c241bf7c_ebcd_11eb_90e4_0242ac1c0002row12_col4,#T_c241bf7c_ebcd_11eb_90e4_0242ac1c0002row13_col10{\n",
              "            background-color:  #465ecf;\n",
              "            color:  #f1f1f1;\n",
              "        }#T_c241bf7c_ebcd_11eb_90e4_0242ac1c0002row7_col10,#T_c241bf7c_ebcd_11eb_90e4_0242ac1c0002row9_col6{\n",
              "            background-color:  #7093f3;\n",
              "            color:  #000000;\n",
              "        }#T_c241bf7c_ebcd_11eb_90e4_0242ac1c0002row8_col0{\n",
              "            background-color:  #f1ccb8;\n",
              "            color:  #000000;\n",
              "        }#T_c241bf7c_ebcd_11eb_90e4_0242ac1c0002row8_col4{\n",
              "            background-color:  #dd5f4b;\n",
              "            color:  #000000;\n",
              "        }#T_c241bf7c_ebcd_11eb_90e4_0242ac1c0002row8_col5{\n",
              "            background-color:  #c4d5f3;\n",
              "            color:  #000000;\n",
              "        }#T_c241bf7c_ebcd_11eb_90e4_0242ac1c0002row8_col7{\n",
              "            background-color:  #ebd3c6;\n",
              "            color:  #000000;\n",
              "        }#T_c241bf7c_ebcd_11eb_90e4_0242ac1c0002row8_col14{\n",
              "            background-color:  #e67259;\n",
              "            color:  #000000;\n",
              "        }#T_c241bf7c_ebcd_11eb_90e4_0242ac1c0002row9_col0,#T_c241bf7c_ebcd_11eb_90e4_0242ac1c0002row11_col3{\n",
              "            background-color:  #5572df;\n",
              "            color:  #000000;\n",
              "        }#T_c241bf7c_ebcd_11eb_90e4_0242ac1c0002row9_col2{\n",
              "            background-color:  #f59d7e;\n",
              "            color:  #000000;\n",
              "        }#T_c241bf7c_ebcd_11eb_90e4_0242ac1c0002row9_col4,#T_c241bf7c_ebcd_11eb_90e4_0242ac1c0002row10_col6{\n",
              "            background-color:  #4257c9;\n",
              "            color:  #f1f1f1;\n",
              "        }#T_c241bf7c_ebcd_11eb_90e4_0242ac1c0002row9_col5{\n",
              "            background-color:  #9dbdff;\n",
              "            color:  #000000;\n",
              "        }#T_c241bf7c_ebcd_11eb_90e4_0242ac1c0002row9_col10{\n",
              "            background-color:  #e0dbd8;\n",
              "            color:  #000000;\n",
              "        }#T_c241bf7c_ebcd_11eb_90e4_0242ac1c0002row9_col12{\n",
              "            background-color:  #f5c0a7;\n",
              "            color:  #000000;\n",
              "        }#T_c241bf7c_ebcd_11eb_90e4_0242ac1c0002row10_col1{\n",
              "            background-color:  #d85646;\n",
              "            color:  #000000;\n",
              "        }#T_c241bf7c_ebcd_11eb_90e4_0242ac1c0002row10_col2{\n",
              "            background-color:  #94b6ff;\n",
              "            color:  #000000;\n",
              "        }#T_c241bf7c_ebcd_11eb_90e4_0242ac1c0002row10_col3,#T_c241bf7c_ebcd_11eb_90e4_0242ac1c0002row13_col9{\n",
              "            background-color:  #cbd8ee;\n",
              "            color:  #000000;\n",
              "        }#T_c241bf7c_ebcd_11eb_90e4_0242ac1c0002row10_col5,#T_c241bf7c_ebcd_11eb_90e4_0242ac1c0002row11_col14{\n",
              "            background-color:  #f4c5ad;\n",
              "            color:  #000000;\n",
              "        }#T_c241bf7c_ebcd_11eb_90e4_0242ac1c0002row10_col7,#T_c241bf7c_ebcd_11eb_90e4_0242ac1c0002row14_col0{\n",
              "            background-color:  #b5cdfa;\n",
              "            color:  #000000;\n",
              "        }#T_c241bf7c_ebcd_11eb_90e4_0242ac1c0002row10_col8{\n",
              "            background-color:  #6e90f2;\n",
              "            color:  #000000;\n",
              "        }#T_c241bf7c_ebcd_11eb_90e4_0242ac1c0002row10_col9{\n",
              "            background-color:  #f3c8b2;\n",
              "            color:  #000000;\n",
              "        }#T_c241bf7c_ebcd_11eb_90e4_0242ac1c0002row10_col11{\n",
              "            background-color:  #ccd9ed;\n",
              "            color:  #000000;\n",
              "        }#T_c241bf7c_ebcd_11eb_90e4_0242ac1c0002row10_col12,#T_c241bf7c_ebcd_11eb_90e4_0242ac1c0002row11_col0{\n",
              "            background-color:  #a6c4fe;\n",
              "            color:  #000000;\n",
              "        }#T_c241bf7c_ebcd_11eb_90e4_0242ac1c0002row10_col13,#T_c241bf7c_ebcd_11eb_90e4_0242ac1c0002row14_col10{\n",
              "            background-color:  #5f7fe8;\n",
              "            color:  #000000;\n",
              "        }#T_c241bf7c_ebcd_11eb_90e4_0242ac1c0002row11_col1{\n",
              "            background-color:  #dcdddd;\n",
              "            color:  #000000;\n",
              "        }#T_c241bf7c_ebcd_11eb_90e4_0242ac1c0002row11_col2{\n",
              "            background-color:  #8fb1fe;\n",
              "            color:  #000000;\n",
              "        }#T_c241bf7c_ebcd_11eb_90e4_0242ac1c0002row11_col5{\n",
              "            background-color:  #d1dae9;\n",
              "            color:  #000000;\n",
              "        }#T_c241bf7c_ebcd_11eb_90e4_0242ac1c0002row11_col7{\n",
              "            background-color:  #9ebeff;\n",
              "            color:  #000000;\n",
              "        }#T_c241bf7c_ebcd_11eb_90e4_0242ac1c0002row11_col9{\n",
              "            background-color:  #c0d4f5;\n",
              "            color:  #000000;\n",
              "        }#T_c241bf7c_ebcd_11eb_90e4_0242ac1c0002row11_col10{\n",
              "            background-color:  #cad8ef;\n",
              "            color:  #000000;\n",
              "        }#T_c241bf7c_ebcd_11eb_90e4_0242ac1c0002row11_col12{\n",
              "            background-color:  #84a7fc;\n",
              "            color:  #000000;\n",
              "        }#T_c241bf7c_ebcd_11eb_90e4_0242ac1c0002row11_col13{\n",
              "            background-color:  #e6d7cf;\n",
              "            color:  #000000;\n",
              "        }#T_c241bf7c_ebcd_11eb_90e4_0242ac1c0002row12_col1{\n",
              "            background-color:  #516ddb;\n",
              "            color:  #000000;\n",
              "        }#T_c241bf7c_ebcd_11eb_90e4_0242ac1c0002row12_col2{\n",
              "            background-color:  #d1493f;\n",
              "            color:  #f1f1f1;\n",
              "        }#T_c241bf7c_ebcd_11eb_90e4_0242ac1c0002row12_col3{\n",
              "            background-color:  #b7cff9;\n",
              "            color:  #000000;\n",
              "        }#T_c241bf7c_ebcd_11eb_90e4_0242ac1c0002row12_col6{\n",
              "            background-color:  #a3c2fe;\n",
              "            color:  #000000;\n",
              "        }#T_c241bf7c_ebcd_11eb_90e4_0242ac1c0002row12_col7{\n",
              "            background-color:  #6687ed;\n",
              "            color:  #000000;\n",
              "        }#T_c241bf7c_ebcd_11eb_90e4_0242ac1c0002row12_col9{\n",
              "            background-color:  #f5c4ac;\n",
              "            color:  #000000;\n",
              "        }#T_c241bf7c_ebcd_11eb_90e4_0242ac1c0002row12_col11{\n",
              "            background-color:  #3f53c6;\n",
              "            color:  #f1f1f1;\n",
              "        }#T_c241bf7c_ebcd_11eb_90e4_0242ac1c0002row12_col14{\n",
              "            background-color:  #5a78e4;\n",
              "            color:  #000000;\n",
              "        }#T_c241bf7c_ebcd_11eb_90e4_0242ac1c0002row13_col0,#T_c241bf7c_ebcd_11eb_90e4_0242ac1c0002row13_col7{\n",
              "            background-color:  #7b9ff9;\n",
              "            color:  #000000;\n",
              "        }#T_c241bf7c_ebcd_11eb_90e4_0242ac1c0002row13_col2{\n",
              "            background-color:  #f2cab5;\n",
              "            color:  #000000;\n",
              "        }#T_c241bf7c_ebcd_11eb_90e4_0242ac1c0002row13_col3{\n",
              "            background-color:  #5b7ae5;\n",
              "            color:  #000000;\n",
              "        }#T_c241bf7c_ebcd_11eb_90e4_0242ac1c0002row13_col4{\n",
              "            background-color:  #f7aa8c;\n",
              "            color:  #000000;\n",
              "        }#T_c241bf7c_ebcd_11eb_90e4_0242ac1c0002row13_col8{\n",
              "            background-color:  #e4d9d2;\n",
              "            color:  #000000;\n",
              "        }#T_c241bf7c_ebcd_11eb_90e4_0242ac1c0002row13_col12{\n",
              "            background-color:  #efcfbf;\n",
              "            color:  #000000;\n",
              "        }#T_c241bf7c_ebcd_11eb_90e4_0242ac1c0002row14_col7{\n",
              "            background-color:  #c7d7f0;\n",
              "            color:  #000000;\n",
              "        }#T_c241bf7c_ebcd_11eb_90e4_0242ac1c0002row14_col8{\n",
              "            background-color:  #e36b54;\n",
              "            color:  #000000;\n",
              "        }#T_c241bf7c_ebcd_11eb_90e4_0242ac1c0002row14_col11{\n",
              "            background-color:  #f4c6af;\n",
              "            color:  #000000;\n",
              "        }#T_c241bf7c_ebcd_11eb_90e4_0242ac1c0002row14_col12{\n",
              "            background-color:  #9abbff;\n",
              "            color:  #000000;\n",
              "        }#T_c241bf7c_ebcd_11eb_90e4_0242ac1c0002row14_col13{\n",
              "            background-color:  #f7b497;\n",
              "            color:  #000000;\n",
              "        }</style><table id=\"T_c241bf7c_ebcd_11eb_90e4_0242ac1c0002\" ><thead>    <tr>        <th class=\"blank level0\" ></th>        <th class=\"col_heading level0 col0\" >0</th>        <th class=\"col_heading level0 col1\" >1</th>        <th class=\"col_heading level0 col2\" >2</th>        <th class=\"col_heading level0 col3\" >3</th>        <th class=\"col_heading level0 col4\" >4</th>        <th class=\"col_heading level0 col5\" >5</th>        <th class=\"col_heading level0 col6\" >6</th>        <th class=\"col_heading level0 col7\" >7</th>        <th class=\"col_heading level0 col8\" >8</th>        <th class=\"col_heading level0 col9\" >9</th>        <th class=\"col_heading level0 col10\" >10</th>        <th class=\"col_heading level0 col11\" >11</th>        <th class=\"col_heading level0 col12\" >12</th>        <th class=\"col_heading level0 col13\" >13</th>        <th class=\"col_heading level0 col14\" >14</th>    </tr></thead><tbody>\n",
              "                <tr>\n",
              "                        <th id=\"T_c241bf7c_ebcd_11eb_90e4_0242ac1c0002level0_row0\" class=\"row_heading level0 row0\" >0</th>\n",
              "                        <td id=\"T_c241bf7c_ebcd_11eb_90e4_0242ac1c0002row0_col0\" class=\"data row0 col0\" >1.000000</td>\n",
              "                        <td id=\"T_c241bf7c_ebcd_11eb_90e4_0242ac1c0002row0_col1\" class=\"data row0 col1\" >-0.087463</td>\n",
              "                        <td id=\"T_c241bf7c_ebcd_11eb_90e4_0242ac1c0002row0_col2\" class=\"data row0 col2\" >-0.423956</td>\n",
              "                        <td id=\"T_c241bf7c_ebcd_11eb_90e4_0242ac1c0002row0_col3\" class=\"data row0 col3\" >0.044888</td>\n",
              "                        <td id=\"T_c241bf7c_ebcd_11eb_90e4_0242ac1c0002row0_col4\" class=\"data row0 col4\" >0.102120</td>\n",
              "                        <td id=\"T_c241bf7c_ebcd_11eb_90e4_0242ac1c0002row0_col5\" class=\"data row0 col5\" >0.620095</td>\n",
              "                        <td id=\"T_c241bf7c_ebcd_11eb_90e4_0242ac1c0002row0_col6\" class=\"data row0 col6\" >0.591829</td>\n",
              "                        <td id=\"T_c241bf7c_ebcd_11eb_90e4_0242ac1c0002row0_col7\" class=\"data row0 col7\" >0.873462</td>\n",
              "                        <td id=\"T_c241bf7c_ebcd_11eb_90e4_0242ac1c0002row0_col8\" class=\"data row0 col8\" >0.424211</td>\n",
              "                        <td id=\"T_c241bf7c_ebcd_11eb_90e4_0242ac1c0002row0_col9\" class=\"data row0 col9\" >-0.297032</td>\n",
              "                        <td id=\"T_c241bf7c_ebcd_11eb_90e4_0242ac1c0002row0_col10\" class=\"data row0 col10\" >-0.040900</td>\n",
              "                        <td id=\"T_c241bf7c_ebcd_11eb_90e4_0242ac1c0002row0_col11\" class=\"data row0 col11\" >0.032548</td>\n",
              "                        <td id=\"T_c241bf7c_ebcd_11eb_90e4_0242ac1c0002row0_col12\" class=\"data row0 col12\" >-0.339310</td>\n",
              "                        <td id=\"T_c241bf7c_ebcd_11eb_90e4_0242ac1c0002row0_col13\" class=\"data row0 col13\" >-0.137257</td>\n",
              "                        <td id=\"T_c241bf7c_ebcd_11eb_90e4_0242ac1c0002row0_col14\" class=\"data row0 col14\" >0.097820</td>\n",
              "            </tr>\n",
              "            <tr>\n",
              "                        <th id=\"T_c241bf7c_ebcd_11eb_90e4_0242ac1c0002level0_row1\" class=\"row_heading level0 row1\" >1</th>\n",
              "                        <td id=\"T_c241bf7c_ebcd_11eb_90e4_0242ac1c0002row1_col0\" class=\"data row1 col0\" >-0.087463</td>\n",
              "                        <td id=\"T_c241bf7c_ebcd_11eb_90e4_0242ac1c0002row1_col1\" class=\"data row1 col1\" >1.000000</td>\n",
              "                        <td id=\"T_c241bf7c_ebcd_11eb_90e4_0242ac1c0002row1_col2\" class=\"data row1 col2\" >0.012551</td>\n",
              "                        <td id=\"T_c241bf7c_ebcd_11eb_90e4_0242ac1c0002row1_col3\" class=\"data row1 col3\" >0.033183</td>\n",
              "                        <td id=\"T_c241bf7c_ebcd_11eb_90e4_0242ac1c0002row1_col4\" class=\"data row1 col4\" >0.004762</td>\n",
              "                        <td id=\"T_c241bf7c_ebcd_11eb_90e4_0242ac1c0002row1_col5\" class=\"data row1 col5\" >0.552443</td>\n",
              "                        <td id=\"T_c241bf7c_ebcd_11eb_90e4_0242ac1c0002row1_col6\" class=\"data row1 col6\" >-0.035389</td>\n",
              "                        <td id=\"T_c241bf7c_ebcd_11eb_90e4_0242ac1c0002row1_col7\" class=\"data row1 col7\" >-0.045188</td>\n",
              "                        <td id=\"T_c241bf7c_ebcd_11eb_90e4_0242ac1c0002row1_col8\" class=\"data row1 col8\" >-0.035205</td>\n",
              "                        <td id=\"T_c241bf7c_ebcd_11eb_90e4_0242ac1c0002row1_col9\" class=\"data row1 col9\" >0.624951</td>\n",
              "                        <td id=\"T_c241bf7c_ebcd_11eb_90e4_0242ac1c0002row1_col10\" class=\"data row1 col10\" >0.883614</td>\n",
              "                        <td id=\"T_c241bf7c_ebcd_11eb_90e4_0242ac1c0002row1_col11\" class=\"data row1 col11\" >0.454218</td>\n",
              "                        <td id=\"T_c241bf7c_ebcd_11eb_90e4_0242ac1c0002row1_col12\" class=\"data row1 col12\" >-0.006658</td>\n",
              "                        <td id=\"T_c241bf7c_ebcd_11eb_90e4_0242ac1c0002row1_col13\" class=\"data row1 col13\" >0.003698</td>\n",
              "                        <td id=\"T_c241bf7c_ebcd_11eb_90e4_0242ac1c0002row1_col14\" class=\"data row1 col14\" >-0.007693</td>\n",
              "            </tr>\n",
              "            <tr>\n",
              "                        <th id=\"T_c241bf7c_ebcd_11eb_90e4_0242ac1c0002level0_row2\" class=\"row_heading level0 row2\" >2</th>\n",
              "                        <td id=\"T_c241bf7c_ebcd_11eb_90e4_0242ac1c0002row2_col0\" class=\"data row2 col0\" >-0.423956</td>\n",
              "                        <td id=\"T_c241bf7c_ebcd_11eb_90e4_0242ac1c0002row2_col1\" class=\"data row2 col1\" >0.012551</td>\n",
              "                        <td id=\"T_c241bf7c_ebcd_11eb_90e4_0242ac1c0002row2_col2\" class=\"data row2 col2\" >1.000000</td>\n",
              "                        <td id=\"T_c241bf7c_ebcd_11eb_90e4_0242ac1c0002row2_col3\" class=\"data row2 col3\" >-0.042139</td>\n",
              "                        <td id=\"T_c241bf7c_ebcd_11eb_90e4_0242ac1c0002row2_col4\" class=\"data row2 col4\" >-0.074364</td>\n",
              "                        <td id=\"T_c241bf7c_ebcd_11eb_90e4_0242ac1c0002row2_col5\" class=\"data row2 col5\" >-0.249722</td>\n",
              "                        <td id=\"T_c241bf7c_ebcd_11eb_90e4_0242ac1c0002row2_col6\" class=\"data row2 col6\" >0.264229</td>\n",
              "                        <td id=\"T_c241bf7c_ebcd_11eb_90e4_0242ac1c0002row2_col7\" class=\"data row2 col7\" >-0.359124</td>\n",
              "                        <td id=\"T_c241bf7c_ebcd_11eb_90e4_0242ac1c0002row2_col8\" class=\"data row2 col8\" >-0.205216</td>\n",
              "                        <td id=\"T_c241bf7c_ebcd_11eb_90e4_0242ac1c0002row2_col9\" class=\"data row2 col9\" >0.630293</td>\n",
              "                        <td id=\"T_c241bf7c_ebcd_11eb_90e4_0242ac1c0002row2_col10\" class=\"data row2 col10\" >-0.035312</td>\n",
              "                        <td id=\"T_c241bf7c_ebcd_11eb_90e4_0242ac1c0002row2_col11\" class=\"data row2 col11\" >-0.057433</td>\n",
              "                        <td id=\"T_c241bf7c_ebcd_11eb_90e4_0242ac1c0002row2_col12\" class=\"data row2 col12\" >0.879047</td>\n",
              "                        <td id=\"T_c241bf7c_ebcd_11eb_90e4_0242ac1c0002row2_col13\" class=\"data row2 col13\" >0.434341</td>\n",
              "                        <td id=\"T_c241bf7c_ebcd_11eb_90e4_0242ac1c0002row2_col14\" class=\"data row2 col14\" >-0.066216</td>\n",
              "            </tr>\n",
              "            <tr>\n",
              "                        <th id=\"T_c241bf7c_ebcd_11eb_90e4_0242ac1c0002level0_row3\" class=\"row_heading level0 row3\" >3</th>\n",
              "                        <td id=\"T_c241bf7c_ebcd_11eb_90e4_0242ac1c0002row3_col0\" class=\"data row3 col0\" >0.044888</td>\n",
              "                        <td id=\"T_c241bf7c_ebcd_11eb_90e4_0242ac1c0002row3_col1\" class=\"data row3 col1\" >0.033183</td>\n",
              "                        <td id=\"T_c241bf7c_ebcd_11eb_90e4_0242ac1c0002row3_col2\" class=\"data row3 col2\" >-0.042139</td>\n",
              "                        <td id=\"T_c241bf7c_ebcd_11eb_90e4_0242ac1c0002row3_col3\" class=\"data row3 col3\" >1.000000</td>\n",
              "                        <td id=\"T_c241bf7c_ebcd_11eb_90e4_0242ac1c0002row3_col4\" class=\"data row3 col4\" >0.081858</td>\n",
              "                        <td id=\"T_c241bf7c_ebcd_11eb_90e4_0242ac1c0002row3_col5\" class=\"data row3 col5\" >0.081228</td>\n",
              "                        <td id=\"T_c241bf7c_ebcd_11eb_90e4_0242ac1c0002row3_col6\" class=\"data row3 col6\" >0.050358</td>\n",
              "                        <td id=\"T_c241bf7c_ebcd_11eb_90e4_0242ac1c0002row3_col7\" class=\"data row3 col7\" >0.438995</td>\n",
              "                        <td id=\"T_c241bf7c_ebcd_11eb_90e4_0242ac1c0002row3_col8\" class=\"data row3 col8\" >0.076382</td>\n",
              "                        <td id=\"T_c241bf7c_ebcd_11eb_90e4_0242ac1c0002row3_col9\" class=\"data row3 col9\" >-0.054063</td>\n",
              "                        <td id=\"T_c241bf7c_ebcd_11eb_90e4_0242ac1c0002row3_col10\" class=\"data row3 col10\" >0.403833</td>\n",
              "                        <td id=\"T_c241bf7c_ebcd_11eb_90e4_0242ac1c0002row3_col11\" class=\"data row3 col11\" >0.038140</td>\n",
              "                        <td id=\"T_c241bf7c_ebcd_11eb_90e4_0242ac1c0002row3_col12\" class=\"data row3 col12\" >0.338679</td>\n",
              "                        <td id=\"T_c241bf7c_ebcd_11eb_90e4_0242ac1c0002row3_col13\" class=\"data row3 col13\" >0.059800</td>\n",
              "                        <td id=\"T_c241bf7c_ebcd_11eb_90e4_0242ac1c0002row3_col14\" class=\"data row3 col14\" >0.295213</td>\n",
              "            </tr>\n",
              "            <tr>\n",
              "                        <th id=\"T_c241bf7c_ebcd_11eb_90e4_0242ac1c0002level0_row4\" class=\"row_heading level0 row4\" >4</th>\n",
              "                        <td id=\"T_c241bf7c_ebcd_11eb_90e4_0242ac1c0002row4_col0\" class=\"data row4 col0\" >0.102120</td>\n",
              "                        <td id=\"T_c241bf7c_ebcd_11eb_90e4_0242ac1c0002row4_col1\" class=\"data row4 col1\" >0.004762</td>\n",
              "                        <td id=\"T_c241bf7c_ebcd_11eb_90e4_0242ac1c0002row4_col2\" class=\"data row4 col2\" >-0.074364</td>\n",
              "                        <td id=\"T_c241bf7c_ebcd_11eb_90e4_0242ac1c0002row4_col3\" class=\"data row4 col3\" >0.081858</td>\n",
              "                        <td id=\"T_c241bf7c_ebcd_11eb_90e4_0242ac1c0002row4_col4\" class=\"data row4 col4\" >1.000000</td>\n",
              "                        <td id=\"T_c241bf7c_ebcd_11eb_90e4_0242ac1c0002row4_col5\" class=\"data row4 col5\" >0.065260</td>\n",
              "                        <td id=\"T_c241bf7c_ebcd_11eb_90e4_0242ac1c0002row4_col6\" class=\"data row4 col6\" >0.028256</td>\n",
              "                        <td id=\"T_c241bf7c_ebcd_11eb_90e4_0242ac1c0002row4_col7\" class=\"data row4 col7\" >0.123393</td>\n",
              "                        <td id=\"T_c241bf7c_ebcd_11eb_90e4_0242ac1c0002row4_col8\" class=\"data row4 col8\" >0.868062</td>\n",
              "                        <td id=\"T_c241bf7c_ebcd_11eb_90e4_0242ac1c0002row4_col9\" class=\"data row4 col9\" >-0.048251</td>\n",
              "                        <td id=\"T_c241bf7c_ebcd_11eb_90e4_0242ac1c0002row4_col10\" class=\"data row4 col10\" >0.015689</td>\n",
              "                        <td id=\"T_c241bf7c_ebcd_11eb_90e4_0242ac1c0002row4_col11\" class=\"data row4 col11\" >0.713281</td>\n",
              "                        <td id=\"T_c241bf7c_ebcd_11eb_90e4_0242ac1c0002row4_col12\" class=\"data row4 col12\" >-0.030920</td>\n",
              "                        <td id=\"T_c241bf7c_ebcd_11eb_90e4_0242ac1c0002row4_col13\" class=\"data row4 col13\" >0.684126</td>\n",
              "                        <td id=\"T_c241bf7c_ebcd_11eb_90e4_0242ac1c0002row4_col14\" class=\"data row4 col14\" >0.930487</td>\n",
              "            </tr>\n",
              "            <tr>\n",
              "                        <th id=\"T_c241bf7c_ebcd_11eb_90e4_0242ac1c0002level0_row5\" class=\"row_heading level0 row5\" >5</th>\n",
              "                        <td id=\"T_c241bf7c_ebcd_11eb_90e4_0242ac1c0002row5_col0\" class=\"data row5 col0\" >0.620095</td>\n",
              "                        <td id=\"T_c241bf7c_ebcd_11eb_90e4_0242ac1c0002row5_col1\" class=\"data row5 col1\" >0.552443</td>\n",
              "                        <td id=\"T_c241bf7c_ebcd_11eb_90e4_0242ac1c0002row5_col2\" class=\"data row5 col2\" >-0.249722</td>\n",
              "                        <td id=\"T_c241bf7c_ebcd_11eb_90e4_0242ac1c0002row5_col3\" class=\"data row5 col3\" >0.081228</td>\n",
              "                        <td id=\"T_c241bf7c_ebcd_11eb_90e4_0242ac1c0002row5_col4\" class=\"data row5 col4\" >0.065260</td>\n",
              "                        <td id=\"T_c241bf7c_ebcd_11eb_90e4_0242ac1c0002row5_col5\" class=\"data row5 col5\" >1.000000</td>\n",
              "                        <td id=\"T_c241bf7c_ebcd_11eb_90e4_0242ac1c0002row5_col6\" class=\"data row5 col6\" >0.383602</td>\n",
              "                        <td id=\"T_c241bf7c_ebcd_11eb_90e4_0242ac1c0002row5_col7\" class=\"data row5 col7\" >0.573290</td>\n",
              "                        <td id=\"T_c241bf7c_ebcd_11eb_90e4_0242ac1c0002row5_col8\" class=\"data row5 col8\" >0.264976</td>\n",
              "                        <td id=\"T_c241bf7c_ebcd_11eb_90e4_0242ac1c0002row5_col9\" class=\"data row5 col9\" >0.117000</td>\n",
              "                        <td id=\"T_c241bf7c_ebcd_11eb_90e4_0242ac1c0002row5_col10\" class=\"data row5 col10\" >0.529575</td>\n",
              "                        <td id=\"T_c241bf7c_ebcd_11eb_90e4_0242ac1c0002row5_col11\" class=\"data row5 col11\" >0.318731</td>\n",
              "                        <td id=\"T_c241bf7c_ebcd_11eb_90e4_0242ac1c0002row5_col12\" class=\"data row5 col12\" >-0.191062</td>\n",
              "                        <td id=\"T_c241bf7c_ebcd_11eb_90e4_0242ac1c0002row5_col13\" class=\"data row5 col13\" >-0.084415</td>\n",
              "                        <td id=\"T_c241bf7c_ebcd_11eb_90e4_0242ac1c0002row5_col14\" class=\"data row5 col14\" >0.058406</td>\n",
              "            </tr>\n",
              "            <tr>\n",
              "                        <th id=\"T_c241bf7c_ebcd_11eb_90e4_0242ac1c0002level0_row6\" class=\"row_heading level0 row6\" >6</th>\n",
              "                        <td id=\"T_c241bf7c_ebcd_11eb_90e4_0242ac1c0002row6_col0\" class=\"data row6 col0\" >0.591829</td>\n",
              "                        <td id=\"T_c241bf7c_ebcd_11eb_90e4_0242ac1c0002row6_col1\" class=\"data row6 col1\" >-0.035389</td>\n",
              "                        <td id=\"T_c241bf7c_ebcd_11eb_90e4_0242ac1c0002row6_col2\" class=\"data row6 col2\" >0.264229</td>\n",
              "                        <td id=\"T_c241bf7c_ebcd_11eb_90e4_0242ac1c0002row6_col3\" class=\"data row6 col3\" >0.050358</td>\n",
              "                        <td id=\"T_c241bf7c_ebcd_11eb_90e4_0242ac1c0002row6_col4\" class=\"data row6 col4\" >0.028256</td>\n",
              "                        <td id=\"T_c241bf7c_ebcd_11eb_90e4_0242ac1c0002row6_col5\" class=\"data row6 col5\" >0.383602</td>\n",
              "                        <td id=\"T_c241bf7c_ebcd_11eb_90e4_0242ac1c0002row6_col6\" class=\"data row6 col6\" >1.000000</td>\n",
              "                        <td id=\"T_c241bf7c_ebcd_11eb_90e4_0242ac1c0002row6_col7\" class=\"data row6 col7\" >0.531048</td>\n",
              "                        <td id=\"T_c241bf7c_ebcd_11eb_90e4_0242ac1c0002row6_col8\" class=\"data row6 col8\" >0.219062</td>\n",
              "                        <td id=\"T_c241bf7c_ebcd_11eb_90e4_0242ac1c0002row6_col9\" class=\"data row6 col9\" >0.139118</td>\n",
              "                        <td id=\"T_c241bf7c_ebcd_11eb_90e4_0242ac1c0002row6_col10\" class=\"data row6 col10\" >-0.010718</td>\n",
              "                        <td id=\"T_c241bf7c_ebcd_11eb_90e4_0242ac1c0002row6_col11\" class=\"data row6 col11\" >-0.004754</td>\n",
              "                        <td id=\"T_c241bf7c_ebcd_11eb_90e4_0242ac1c0002row6_col12\" class=\"data row6 col12\" >0.291233</td>\n",
              "                        <td id=\"T_c241bf7c_ebcd_11eb_90e4_0242ac1c0002row6_col13\" class=\"data row6 col13\" >0.164629</td>\n",
              "                        <td id=\"T_c241bf7c_ebcd_11eb_90e4_0242ac1c0002row6_col14\" class=\"data row6 col14\" >0.040771</td>\n",
              "            </tr>\n",
              "            <tr>\n",
              "                        <th id=\"T_c241bf7c_ebcd_11eb_90e4_0242ac1c0002level0_row7\" class=\"row_heading level0 row7\" >7</th>\n",
              "                        <td id=\"T_c241bf7c_ebcd_11eb_90e4_0242ac1c0002row7_col0\" class=\"data row7 col0\" >0.873462</td>\n",
              "                        <td id=\"T_c241bf7c_ebcd_11eb_90e4_0242ac1c0002row7_col1\" class=\"data row7 col1\" >-0.045188</td>\n",
              "                        <td id=\"T_c241bf7c_ebcd_11eb_90e4_0242ac1c0002row7_col2\" class=\"data row7 col2\" >-0.359124</td>\n",
              "                        <td id=\"T_c241bf7c_ebcd_11eb_90e4_0242ac1c0002row7_col3\" class=\"data row7 col3\" >0.438995</td>\n",
              "                        <td id=\"T_c241bf7c_ebcd_11eb_90e4_0242ac1c0002row7_col4\" class=\"data row7 col4\" >0.123393</td>\n",
              "                        <td id=\"T_c241bf7c_ebcd_11eb_90e4_0242ac1c0002row7_col5\" class=\"data row7 col5\" >0.573290</td>\n",
              "                        <td id=\"T_c241bf7c_ebcd_11eb_90e4_0242ac1c0002row7_col6\" class=\"data row7 col6\" >0.531048</td>\n",
              "                        <td id=\"T_c241bf7c_ebcd_11eb_90e4_0242ac1c0002row7_col7\" class=\"data row7 col7\" >1.000000</td>\n",
              "                        <td id=\"T_c241bf7c_ebcd_11eb_90e4_0242ac1c0002row7_col8\" class=\"data row7 col8\" >0.404533</td>\n",
              "                        <td id=\"T_c241bf7c_ebcd_11eb_90e4_0242ac1c0002row7_col9\" class=\"data row7 col9\" >-0.246121</td>\n",
              "                        <td id=\"T_c241bf7c_ebcd_11eb_90e4_0242ac1c0002row7_col10\" class=\"data row7 col10\" >0.134855</td>\n",
              "                        <td id=\"T_c241bf7c_ebcd_11eb_90e4_0242ac1c0002row7_col11\" class=\"data row7 col11\" >0.048515</td>\n",
              "                        <td id=\"T_c241bf7c_ebcd_11eb_90e4_0242ac1c0002row7_col12\" class=\"data row7 col12\" >-0.168657</td>\n",
              "                        <td id=\"T_c241bf7c_ebcd_11eb_90e4_0242ac1c0002row7_col13\" class=\"data row7 col13\" >-0.085490</td>\n",
              "                        <td id=\"T_c241bf7c_ebcd_11eb_90e4_0242ac1c0002row7_col14\" class=\"data row7 col14\" >0.214339</td>\n",
              "            </tr>\n",
              "            <tr>\n",
              "                        <th id=\"T_c241bf7c_ebcd_11eb_90e4_0242ac1c0002level0_row8\" class=\"row_heading level0 row8\" >8</th>\n",
              "                        <td id=\"T_c241bf7c_ebcd_11eb_90e4_0242ac1c0002row8_col0\" class=\"data row8 col0\" >0.424211</td>\n",
              "                        <td id=\"T_c241bf7c_ebcd_11eb_90e4_0242ac1c0002row8_col1\" class=\"data row8 col1\" >-0.035205</td>\n",
              "                        <td id=\"T_c241bf7c_ebcd_11eb_90e4_0242ac1c0002row8_col2\" class=\"data row8 col2\" >-0.205216</td>\n",
              "                        <td id=\"T_c241bf7c_ebcd_11eb_90e4_0242ac1c0002row8_col3\" class=\"data row8 col3\" >0.076382</td>\n",
              "                        <td id=\"T_c241bf7c_ebcd_11eb_90e4_0242ac1c0002row8_col4\" class=\"data row8 col4\" >0.868062</td>\n",
              "                        <td id=\"T_c241bf7c_ebcd_11eb_90e4_0242ac1c0002row8_col5\" class=\"data row8 col5\" >0.264976</td>\n",
              "                        <td id=\"T_c241bf7c_ebcd_11eb_90e4_0242ac1c0002row8_col6\" class=\"data row8 col6\" >0.219062</td>\n",
              "                        <td id=\"T_c241bf7c_ebcd_11eb_90e4_0242ac1c0002row8_col7\" class=\"data row8 col7\" >0.404533</td>\n",
              "                        <td id=\"T_c241bf7c_ebcd_11eb_90e4_0242ac1c0002row8_col8\" class=\"data row8 col8\" >1.000000</td>\n",
              "                        <td id=\"T_c241bf7c_ebcd_11eb_90e4_0242ac1c0002row8_col9\" class=\"data row8 col9\" >-0.145752</td>\n",
              "                        <td id=\"T_c241bf7c_ebcd_11eb_90e4_0242ac1c0002row8_col10\" class=\"data row8 col10\" >-0.012070</td>\n",
              "                        <td id=\"T_c241bf7c_ebcd_11eb_90e4_0242ac1c0002row8_col11\" class=\"data row8 col11\" >0.583141</td>\n",
              "                        <td id=\"T_c241bf7c_ebcd_11eb_90e4_0242ac1c0002row8_col12\" class=\"data row8 col12\" >-0.147106</td>\n",
              "                        <td id=\"T_c241bf7c_ebcd_11eb_90e4_0242ac1c0002row8_col13\" class=\"data row8 col13\" >0.434509</td>\n",
              "                        <td id=\"T_c241bf7c_ebcd_11eb_90e4_0242ac1c0002row8_col14\" class=\"data row8 col14\" >0.825760</td>\n",
              "            </tr>\n",
              "            <tr>\n",
              "                        <th id=\"T_c241bf7c_ebcd_11eb_90e4_0242ac1c0002level0_row9\" class=\"row_heading level0 row9\" >9</th>\n",
              "                        <td id=\"T_c241bf7c_ebcd_11eb_90e4_0242ac1c0002row9_col0\" class=\"data row9 col0\" >-0.297032</td>\n",
              "                        <td id=\"T_c241bf7c_ebcd_11eb_90e4_0242ac1c0002row9_col1\" class=\"data row9 col1\" >0.624951</td>\n",
              "                        <td id=\"T_c241bf7c_ebcd_11eb_90e4_0242ac1c0002row9_col2\" class=\"data row9 col2\" >0.630293</td>\n",
              "                        <td id=\"T_c241bf7c_ebcd_11eb_90e4_0242ac1c0002row9_col3\" class=\"data row9 col3\" >-0.054063</td>\n",
              "                        <td id=\"T_c241bf7c_ebcd_11eb_90e4_0242ac1c0002row9_col4\" class=\"data row9 col4\" >-0.048251</td>\n",
              "                        <td id=\"T_c241bf7c_ebcd_11eb_90e4_0242ac1c0002row9_col5\" class=\"data row9 col5\" >0.117000</td>\n",
              "                        <td id=\"T_c241bf7c_ebcd_11eb_90e4_0242ac1c0002row9_col6\" class=\"data row9 col6\" >0.139118</td>\n",
              "                        <td id=\"T_c241bf7c_ebcd_11eb_90e4_0242ac1c0002row9_col7\" class=\"data row9 col7\" >-0.246121</td>\n",
              "                        <td id=\"T_c241bf7c_ebcd_11eb_90e4_0242ac1c0002row9_col8\" class=\"data row9 col8\" >-0.145752</td>\n",
              "                        <td id=\"T_c241bf7c_ebcd_11eb_90e4_0242ac1c0002row9_col9\" class=\"data row9 col9\" >1.000000</td>\n",
              "                        <td id=\"T_c241bf7c_ebcd_11eb_90e4_0242ac1c0002row9_col10\" class=\"data row9 col10\" >0.495300</td>\n",
              "                        <td id=\"T_c241bf7c_ebcd_11eb_90e4_0242ac1c0002row9_col11\" class=\"data row9 col11\" >0.224349</td>\n",
              "                        <td id=\"T_c241bf7c_ebcd_11eb_90e4_0242ac1c0002row9_col12\" class=\"data row9 col12\" >0.518344</td>\n",
              "                        <td id=\"T_c241bf7c_ebcd_11eb_90e4_0242ac1c0002row9_col13\" class=\"data row9 col13\" >0.266938</td>\n",
              "                        <td id=\"T_c241bf7c_ebcd_11eb_90e4_0242ac1c0002row9_col14\" class=\"data row9 col14\" >-0.055305</td>\n",
              "            </tr>\n",
              "            <tr>\n",
              "                        <th id=\"T_c241bf7c_ebcd_11eb_90e4_0242ac1c0002level0_row10\" class=\"row_heading level0 row10\" >10</th>\n",
              "                        <td id=\"T_c241bf7c_ebcd_11eb_90e4_0242ac1c0002row10_col0\" class=\"data row10 col0\" >-0.040900</td>\n",
              "                        <td id=\"T_c241bf7c_ebcd_11eb_90e4_0242ac1c0002row10_col1\" class=\"data row10 col1\" >0.883614</td>\n",
              "                        <td id=\"T_c241bf7c_ebcd_11eb_90e4_0242ac1c0002row10_col2\" class=\"data row10 col2\" >-0.035312</td>\n",
              "                        <td id=\"T_c241bf7c_ebcd_11eb_90e4_0242ac1c0002row10_col3\" class=\"data row10 col3\" >0.403833</td>\n",
              "                        <td id=\"T_c241bf7c_ebcd_11eb_90e4_0242ac1c0002row10_col4\" class=\"data row10 col4\" >0.015689</td>\n",
              "                        <td id=\"T_c241bf7c_ebcd_11eb_90e4_0242ac1c0002row10_col5\" class=\"data row10 col5\" >0.529575</td>\n",
              "                        <td id=\"T_c241bf7c_ebcd_11eb_90e4_0242ac1c0002row10_col6\" class=\"data row10 col6\" >-0.010718</td>\n",
              "                        <td id=\"T_c241bf7c_ebcd_11eb_90e4_0242ac1c0002row10_col7\" class=\"data row10 col7\" >0.134855</td>\n",
              "                        <td id=\"T_c241bf7c_ebcd_11eb_90e4_0242ac1c0002row10_col8\" class=\"data row10 col8\" >-0.012070</td>\n",
              "                        <td id=\"T_c241bf7c_ebcd_11eb_90e4_0242ac1c0002row10_col9\" class=\"data row10 col9\" >0.495300</td>\n",
              "                        <td id=\"T_c241bf7c_ebcd_11eb_90e4_0242ac1c0002row10_col10\" class=\"data row10 col10\" >1.000000</td>\n",
              "                        <td id=\"T_c241bf7c_ebcd_11eb_90e4_0242ac1c0002row10_col11\" class=\"data row10 col11\" >0.406477</td>\n",
              "                        <td id=\"T_c241bf7c_ebcd_11eb_90e4_0242ac1c0002row10_col12\" class=\"data row10 col12\" >0.092682</td>\n",
              "                        <td id=\"T_c241bf7c_ebcd_11eb_90e4_0242ac1c0002row10_col13\" class=\"data row10 col13\" >0.000151</td>\n",
              "                        <td id=\"T_c241bf7c_ebcd_11eb_90e4_0242ac1c0002row10_col14\" class=\"data row10 col14\" >0.085021</td>\n",
              "            </tr>\n",
              "            <tr>\n",
              "                        <th id=\"T_c241bf7c_ebcd_11eb_90e4_0242ac1c0002level0_row11\" class=\"row_heading level0 row11\" >11</th>\n",
              "                        <td id=\"T_c241bf7c_ebcd_11eb_90e4_0242ac1c0002row11_col0\" class=\"data row11 col0\" >0.032548</td>\n",
              "                        <td id=\"T_c241bf7c_ebcd_11eb_90e4_0242ac1c0002row11_col1\" class=\"data row11 col1\" >0.454218</td>\n",
              "                        <td id=\"T_c241bf7c_ebcd_11eb_90e4_0242ac1c0002row11_col2\" class=\"data row11 col2\" >-0.057433</td>\n",
              "                        <td id=\"T_c241bf7c_ebcd_11eb_90e4_0242ac1c0002row11_col3\" class=\"data row11 col3\" >0.038140</td>\n",
              "                        <td id=\"T_c241bf7c_ebcd_11eb_90e4_0242ac1c0002row11_col4\" class=\"data row11 col4\" >0.713281</td>\n",
              "                        <td id=\"T_c241bf7c_ebcd_11eb_90e4_0242ac1c0002row11_col5\" class=\"data row11 col5\" >0.318731</td>\n",
              "                        <td id=\"T_c241bf7c_ebcd_11eb_90e4_0242ac1c0002row11_col6\" class=\"data row11 col6\" >-0.004754</td>\n",
              "                        <td id=\"T_c241bf7c_ebcd_11eb_90e4_0242ac1c0002row11_col7\" class=\"data row11 col7\" >0.048515</td>\n",
              "                        <td id=\"T_c241bf7c_ebcd_11eb_90e4_0242ac1c0002row11_col8\" class=\"data row11 col8\" >0.583141</td>\n",
              "                        <td id=\"T_c241bf7c_ebcd_11eb_90e4_0242ac1c0002row11_col9\" class=\"data row11 col9\" >0.224349</td>\n",
              "                        <td id=\"T_c241bf7c_ebcd_11eb_90e4_0242ac1c0002row11_col10\" class=\"data row11 col10\" >0.406477</td>\n",
              "                        <td id=\"T_c241bf7c_ebcd_11eb_90e4_0242ac1c0002row11_col11\" class=\"data row11 col11\" >1.000000</td>\n",
              "                        <td id=\"T_c241bf7c_ebcd_11eb_90e4_0242ac1c0002row11_col12\" class=\"data row11 col12\" >-0.040865</td>\n",
              "                        <td id=\"T_c241bf7c_ebcd_11eb_90e4_0242ac1c0002row11_col13\" class=\"data row11 col13\" >0.475082</td>\n",
              "                        <td id=\"T_c241bf7c_ebcd_11eb_90e4_0242ac1c0002row11_col14\" class=\"data row11 col14\" >0.596536</td>\n",
              "            </tr>\n",
              "            <tr>\n",
              "                        <th id=\"T_c241bf7c_ebcd_11eb_90e4_0242ac1c0002level0_row12\" class=\"row_heading level0 row12\" >12</th>\n",
              "                        <td id=\"T_c241bf7c_ebcd_11eb_90e4_0242ac1c0002row12_col0\" class=\"data row12 col0\" >-0.339310</td>\n",
              "                        <td id=\"T_c241bf7c_ebcd_11eb_90e4_0242ac1c0002row12_col1\" class=\"data row12 col1\" >-0.006658</td>\n",
              "                        <td id=\"T_c241bf7c_ebcd_11eb_90e4_0242ac1c0002row12_col2\" class=\"data row12 col2\" >0.879047</td>\n",
              "                        <td id=\"T_c241bf7c_ebcd_11eb_90e4_0242ac1c0002row12_col3\" class=\"data row12 col3\" >0.338679</td>\n",
              "                        <td id=\"T_c241bf7c_ebcd_11eb_90e4_0242ac1c0002row12_col4\" class=\"data row12 col4\" >-0.030920</td>\n",
              "                        <td id=\"T_c241bf7c_ebcd_11eb_90e4_0242ac1c0002row12_col5\" class=\"data row12 col5\" >-0.191062</td>\n",
              "                        <td id=\"T_c241bf7c_ebcd_11eb_90e4_0242ac1c0002row12_col6\" class=\"data row12 col6\" >0.291233</td>\n",
              "                        <td id=\"T_c241bf7c_ebcd_11eb_90e4_0242ac1c0002row12_col7\" class=\"data row12 col7\" >-0.168657</td>\n",
              "                        <td id=\"T_c241bf7c_ebcd_11eb_90e4_0242ac1c0002row12_col8\" class=\"data row12 col8\" >-0.147106</td>\n",
              "                        <td id=\"T_c241bf7c_ebcd_11eb_90e4_0242ac1c0002row12_col9\" class=\"data row12 col9\" >0.518344</td>\n",
              "                        <td id=\"T_c241bf7c_ebcd_11eb_90e4_0242ac1c0002row12_col10\" class=\"data row12 col10\" >0.092682</td>\n",
              "                        <td id=\"T_c241bf7c_ebcd_11eb_90e4_0242ac1c0002row12_col11\" class=\"data row12 col11\" >-0.040865</td>\n",
              "                        <td id=\"T_c241bf7c_ebcd_11eb_90e4_0242ac1c0002row12_col12\" class=\"data row12 col12\" >1.000000</td>\n",
              "                        <td id=\"T_c241bf7c_ebcd_11eb_90e4_0242ac1c0002row12_col13\" class=\"data row12 col13\" >0.437837</td>\n",
              "                        <td id=\"T_c241bf7c_ebcd_11eb_90e4_0242ac1c0002row12_col14\" class=\"data row12 col14\" >0.045438</td>\n",
              "            </tr>\n",
              "            <tr>\n",
              "                        <th id=\"T_c241bf7c_ebcd_11eb_90e4_0242ac1c0002level0_row13\" class=\"row_heading level0 row13\" >13</th>\n",
              "                        <td id=\"T_c241bf7c_ebcd_11eb_90e4_0242ac1c0002row13_col0\" class=\"data row13 col0\" >-0.137257</td>\n",
              "                        <td id=\"T_c241bf7c_ebcd_11eb_90e4_0242ac1c0002row13_col1\" class=\"data row13 col1\" >0.003698</td>\n",
              "                        <td id=\"T_c241bf7c_ebcd_11eb_90e4_0242ac1c0002row13_col2\" class=\"data row13 col2\" >0.434341</td>\n",
              "                        <td id=\"T_c241bf7c_ebcd_11eb_90e4_0242ac1c0002row13_col3\" class=\"data row13 col3\" >0.059800</td>\n",
              "                        <td id=\"T_c241bf7c_ebcd_11eb_90e4_0242ac1c0002row13_col4\" class=\"data row13 col4\" >0.684126</td>\n",
              "                        <td id=\"T_c241bf7c_ebcd_11eb_90e4_0242ac1c0002row13_col5\" class=\"data row13 col5\" >-0.084415</td>\n",
              "                        <td id=\"T_c241bf7c_ebcd_11eb_90e4_0242ac1c0002row13_col6\" class=\"data row13 col6\" >0.164629</td>\n",
              "                        <td id=\"T_c241bf7c_ebcd_11eb_90e4_0242ac1c0002row13_col7\" class=\"data row13 col7\" >-0.085490</td>\n",
              "                        <td id=\"T_c241bf7c_ebcd_11eb_90e4_0242ac1c0002row13_col8\" class=\"data row13 col8\" >0.434509</td>\n",
              "                        <td id=\"T_c241bf7c_ebcd_11eb_90e4_0242ac1c0002row13_col9\" class=\"data row13 col9\" >0.266938</td>\n",
              "                        <td id=\"T_c241bf7c_ebcd_11eb_90e4_0242ac1c0002row13_col10\" class=\"data row13 col10\" >0.000151</td>\n",
              "                        <td id=\"T_c241bf7c_ebcd_11eb_90e4_0242ac1c0002row13_col11\" class=\"data row13 col11\" >0.475082</td>\n",
              "                        <td id=\"T_c241bf7c_ebcd_11eb_90e4_0242ac1c0002row13_col12\" class=\"data row13 col12\" >0.437837</td>\n",
              "                        <td id=\"T_c241bf7c_ebcd_11eb_90e4_0242ac1c0002row13_col13\" class=\"data row13 col13\" >1.000000</td>\n",
              "                        <td id=\"T_c241bf7c_ebcd_11eb_90e4_0242ac1c0002row13_col14\" class=\"data row13 col14\" >0.634947</td>\n",
              "            </tr>\n",
              "            <tr>\n",
              "                        <th id=\"T_c241bf7c_ebcd_11eb_90e4_0242ac1c0002level0_row14\" class=\"row_heading level0 row14\" >14</th>\n",
              "                        <td id=\"T_c241bf7c_ebcd_11eb_90e4_0242ac1c0002row14_col0\" class=\"data row14 col0\" >0.097820</td>\n",
              "                        <td id=\"T_c241bf7c_ebcd_11eb_90e4_0242ac1c0002row14_col1\" class=\"data row14 col1\" >-0.007693</td>\n",
              "                        <td id=\"T_c241bf7c_ebcd_11eb_90e4_0242ac1c0002row14_col2\" class=\"data row14 col2\" >-0.066216</td>\n",
              "                        <td id=\"T_c241bf7c_ebcd_11eb_90e4_0242ac1c0002row14_col3\" class=\"data row14 col3\" >0.295213</td>\n",
              "                        <td id=\"T_c241bf7c_ebcd_11eb_90e4_0242ac1c0002row14_col4\" class=\"data row14 col4\" >0.930487</td>\n",
              "                        <td id=\"T_c241bf7c_ebcd_11eb_90e4_0242ac1c0002row14_col5\" class=\"data row14 col5\" >0.058406</td>\n",
              "                        <td id=\"T_c241bf7c_ebcd_11eb_90e4_0242ac1c0002row14_col6\" class=\"data row14 col6\" >0.040771</td>\n",
              "                        <td id=\"T_c241bf7c_ebcd_11eb_90e4_0242ac1c0002row14_col7\" class=\"data row14 col7\" >0.214339</td>\n",
              "                        <td id=\"T_c241bf7c_ebcd_11eb_90e4_0242ac1c0002row14_col8\" class=\"data row14 col8\" >0.825760</td>\n",
              "                        <td id=\"T_c241bf7c_ebcd_11eb_90e4_0242ac1c0002row14_col9\" class=\"data row14 col9\" >-0.055305</td>\n",
              "                        <td id=\"T_c241bf7c_ebcd_11eb_90e4_0242ac1c0002row14_col10\" class=\"data row14 col10\" >0.085021</td>\n",
              "                        <td id=\"T_c241bf7c_ebcd_11eb_90e4_0242ac1c0002row14_col11\" class=\"data row14 col11\" >0.596536</td>\n",
              "                        <td id=\"T_c241bf7c_ebcd_11eb_90e4_0242ac1c0002row14_col12\" class=\"data row14 col12\" >0.045438</td>\n",
              "                        <td id=\"T_c241bf7c_ebcd_11eb_90e4_0242ac1c0002row14_col13\" class=\"data row14 col13\" >0.634947</td>\n",
              "                        <td id=\"T_c241bf7c_ebcd_11eb_90e4_0242ac1c0002row14_col14\" class=\"data row14 col14\" >1.000000</td>\n",
              "            </tr>\n",
              "    </tbody></table>"
            ],
            "text/plain": [
              "<pandas.io.formats.style.Styler at 0x7efc4d35ee90>"
            ]
          },
          "metadata": {
            "tags": []
          },
          "execution_count": 8
        }
      ]
    },
    {
      "cell_type": "code",
      "metadata": {
        "id": "ILG_J8sdnKXS"
      },
      "source": [
        "data.insert(7, 'city_location', X_inter[:,9], allow_duplicates= False)\n",
        "data.insert( 8,'location_loss', X_inter[:,12], allow_duplicates= False)"
      ],
      "execution_count": null,
      "outputs": []
    },
    {
      "cell_type": "code",
      "metadata": {
        "id": "oUU-AA9Nzb1c",
        "colab": {
          "base_uri": "https://localhost:8080/"
        },
        "outputId": "4e4de61f-1346-41eb-deaa-b28482d41bfb"
      },
      "source": [
        "feature_cols = ['City','Location_Score','Internal_Audit_Score','External_Audit_Score','Fin_Score']\n",
        "X = data[feature_cols] # Features\n",
        "Y = data['IsUnderRisk'] # Target variable\n",
        "# Split dataset into training set and test set\n",
        "X_train, X_test, y_train, y_test = train_test_split(X, Y, test_size=0.3, random_state=1) # 70% training and 30% test\n",
        "#Model1 : Linear Regression\n",
        "clf = LinearRegression()\n",
        "clf = clf.fit(X_train,y_train)\n",
        "sqrt(mean_squared_error(y_test,clf.predict(X_test)))"
      ],
      "execution_count": null,
      "outputs": [
        {
          "output_type": "execute_result",
          "data": {
            "text/plain": [
              "0.3694634925666097"
            ]
          },
          "metadata": {
            "tags": []
          },
          "execution_count": 10
        }
      ]
    },
    {
      "cell_type": "code",
      "metadata": {
        "id": "EgKGvaSLzb1v",
        "colab": {
          "base_uri": "https://localhost:8080/"
        },
        "outputId": "4bbaa99e-31ba-4415-e93c-2bd9d5d359a9"
      },
      "source": [
        "print(\"Training Score %.4f\"%clf.score(X_train, y_train))\n",
        "print(\"Testing Score %.4f\"%clf.score(X_test,y_test))\n",
        "print(\"log_loss\", metrics.log_loss(y_test,clf.predict(X_test)))"
      ],
      "execution_count": null,
      "outputs": [
        {
          "output_type": "stream",
          "text": [
            "Training Score 0.4342\n",
            "Testing Score 0.4307\n",
            "log_loss 0.4061788641730618\n"
          ],
          "name": "stdout"
        }
      ]
    },
    {
      "cell_type": "code",
      "metadata": {
        "id": "3lKJz8_Izb2H",
        "colab": {
          "base_uri": "https://localhost:8080/"
        },
        "outputId": "7a4df85c-9912-4801-8bb8-3d655dcf5865"
      },
      "source": [
        "from sklearn.linear_model import Lasso\n",
        "clf2 =Lasso(alpha=0.01)\n",
        "clf2.fit(X_train,y_train)\n",
        "sqrt(mean_squared_error(y_test,clf2.predict(X_test)))\n"
      ],
      "execution_count": null,
      "outputs": [
        {
          "output_type": "execute_result",
          "data": {
            "text/plain": [
              "0.3700467939566155"
            ]
          },
          "metadata": {
            "tags": []
          },
          "execution_count": 12
        }
      ]
    },
    {
      "cell_type": "code",
      "metadata": {
        "id": "fDDC6pMyzb2a",
        "colab": {
          "base_uri": "https://localhost:8080/"
        },
        "outputId": "5d652739-7eef-432c-c871-edf7f62a17d5"
      },
      "source": [
        "print(\"Training Score %.4f\"%clf2.score(X_train, y_train))\n",
        "print(\"Testing Score %.4f\"%clf2.score(X_test,y_test))\n",
        "print(\"log_loss\", metrics.log_loss(y_test,clf2.predict(X_test)))"
      ],
      "execution_count": null,
      "outputs": [
        {
          "output_type": "stream",
          "text": [
            "Training Score 0.4342\n",
            "Testing Score 0.4289\n",
            "log_loss 0.40800951721384776\n"
          ],
          "name": "stdout"
        }
      ]
    },
    {
      "cell_type": "code",
      "metadata": {
        "id": "KkCyH0tQzb2u",
        "colab": {
          "base_uri": "https://localhost:8080/"
        },
        "outputId": "137954b7-2ad8-4797-f6b4-79c969e71496"
      },
      "source": [
        "from sklearn.preprocessing import PolynomialFeatures\n",
        "polynomial_features= PolynomialFeatures(degree=4)\n",
        "x_poly = polynomial_features.fit_transform(X_train)\n",
        "clf3= LinearRegression()\n",
        "clf3.fit(x_poly, y_train)\n",
        "x_test_poly=polynomial_features.fit_transform(X_test)\n",
        "sqrt(mean_squared_error(y_test,clf3.predict(x_test_poly)))"
      ],
      "execution_count": null,
      "outputs": [
        {
          "output_type": "execute_result",
          "data": {
            "text/plain": [
              "0.7215118765959905"
            ]
          },
          "metadata": {
            "tags": []
          },
          "execution_count": 14
        }
      ]
    },
    {
      "cell_type": "code",
      "metadata": {
        "id": "rGroQIrjzb2_",
        "colab": {
          "base_uri": "https://localhost:8080/"
        },
        "outputId": "ace3de14-6495-4dcd-e09c-01efb7a8f088"
      },
      "source": [
        "print(\"Training Score %.4f\"%clf3.score(x_poly, y_train))\n",
        "print(\"Testing Score %.4f\"%clf3.score(x_test_poly,y_test))\n",
        "print(\"log_loss\", metrics.log_loss(y_test,clf3.predict(x_test_poly)))"
      ],
      "execution_count": null,
      "outputs": [
        {
          "output_type": "stream",
          "text": [
            "Training Score 0.4169\n",
            "Testing Score -1.1713\n",
            "log_loss 2.9943057593942375\n"
          ],
          "name": "stdout"
        }
      ]
    },
    {
      "cell_type": "code",
      "metadata": {
        "id": "ubCr33S8zb3P",
        "colab": {
          "base_uri": "https://localhost:8080/"
        },
        "outputId": "09516e9a-6b6a-4597-f1de-8c9bb19fd5be"
      },
      "source": [
        "from sklearn.linear_model import LogisticRegression\n",
        "clf4 = LogisticRegression(solver=\"liblinear\")\n",
        "clf4.fit(X_train,y_train)\n",
        "sqrt(mean_squared_error(y_test,clf4.predict(X_test)))"
      ],
      "execution_count": null,
      "outputs": [
        {
          "output_type": "execute_result",
          "data": {
            "text/plain": [
              "0.4069940684815211"
            ]
          },
          "metadata": {
            "tags": []
          },
          "execution_count": 16
        }
      ]
    },
    {
      "cell_type": "code",
      "metadata": {
        "id": "pu7Mfundzb3f",
        "colab": {
          "base_uri": "https://localhost:8080/"
        },
        "outputId": "e1c0c17e-f3ef-4440-e5f6-6e0036cd4297"
      },
      "source": [
        "print(\"Training Score %.4f\"%clf4.score(X_train, y_train))\n",
        "print(\"Testing Score %.4f\"%clf4.score(X_test,y_test))\n",
        "print(\"log_loss\", metrics.log_loss(y_test,clf4.predict_proba(X_test)))"
      ],
      "execution_count": null,
      "outputs": [
        {
          "output_type": "stream",
          "text": [
            "Training Score 0.8000\n",
            "Testing Score 0.8344\n",
            "log_loss 0.3808549235357366\n"
          ],
          "name": "stdout"
        }
      ]
    },
    {
      "cell_type": "code",
      "metadata": {
        "id": "6MBbZC36zb3w",
        "colab": {
          "base_uri": "https://localhost:8080/"
        },
        "outputId": "e3ded68d-d380-4fe6-f019-9c6f1bd1f8a7"
      },
      "source": [
        "target_count = data['IsUnderRisk'].value_counts()\n",
        "print('Class 0:', target_count[0])\n",
        "print('Class 1:', target_count[1])\n",
        "print('Proportion:', round(target_count[0] / target_count[1], 2), ': 1')"
      ],
      "execution_count": null,
      "outputs": [
        {
          "output_type": "stream",
          "text": [
            "Class 0: 203\n",
            "Class 1: 340\n",
            "Proportion: 0.6 : 1\n"
          ],
          "name": "stdout"
        }
      ]
    },
    {
      "cell_type": "code",
      "metadata": {
        "id": "s9S8v8Rwzb4E",
        "colab": {
          "base_uri": "https://localhost:8080/"
        },
        "outputId": "bf6263ba-dcd8-43cc-ab20-848bceccee9a"
      },
      "source": [
        "from sklearn import svm\n",
        "from sklearn.model_selection import cross_val_predict\n",
        "svc = svm.SVC(C=8,kernel='linear',probability=True,class_weight='balanced')\n",
        "   \n",
        "clf5 = svc.fit(X_train, y_train) #svm\n",
        "    \n",
        "predicted = cross_val_predict(clf5, X_test,y_test, cv=2)\n",
        "print(\"accuracy\",metrics.accuracy_score(y_test, predicted))\n",
        "print(\"f1 score macro\",metrics.f1_score(y_test, predicted, average='macro'))\n",
        "print(\"f1 score micro\",metrics.f1_score(y_test, predicted, average='micro'))\n",
        "print(\"precision score\",metrics.precision_score(y_test, predicted, average='macro'))\n",
        "print(\"recall score\",metrics.recall_score(y_test, predicted, average='macro'))\n",
        "\n",
        "print(\"classification_report\", metrics.classification_report(y_test, predicted))\n",
        "\n",
        "print(\"Training Score %.4f\"%clf5.score(X_train, y_train))\n",
        "print(\"Testing Score %.4f\"%clf5.score(X_test,y_test))"
      ],
      "execution_count": null,
      "outputs": [
        {
          "output_type": "stream",
          "text": [
            "accuracy 0.8220858895705522\n",
            "f1 score macro 0.8203549576255083\n",
            "f1 score micro 0.8220858895705522\n",
            "precision score 0.8227190605239385\n",
            "recall score 0.8364992150706436\n",
            "classification_report               precision    recall  f1-score   support\n",
            "\n",
            "           0       0.72      0.91      0.80        65\n",
            "           1       0.93      0.77      0.84        98\n",
            "\n",
            "    accuracy                           0.82       163\n",
            "   macro avg       0.82      0.84      0.82       163\n",
            "weighted avg       0.84      0.82      0.82       163\n",
            "\n",
            "Training Score 0.8316\n",
            "Testing Score 0.8528\n"
          ],
          "name": "stdout"
        }
      ]
    },
    {
      "cell_type": "code",
      "metadata": {
        "id": "DIWlTdWwzb4T",
        "colab": {
          "base_uri": "https://localhost:8080/"
        },
        "outputId": "c2ab721b-be17-44b2-d61d-6de75f2e42ab"
      },
      "source": [
        "#confusion matrix from last decision tree classifier \n",
        "from sklearn.metrics import confusion_matrix\n",
        "accurate = np.array(y_test)\n",
        "predicted1 = np.array(predicted)\n",
        "matrix=confusion_matrix(accurate,predicted1)\n",
        "print(matrix)"
      ],
      "execution_count": null,
      "outputs": [
        {
          "output_type": "stream",
          "text": [
            "[[59  6]\n",
            " [23 75]]\n"
          ],
          "name": "stdout"
        }
      ]
    },
    {
      "cell_type": "code",
      "metadata": {
        "id": "H5B7nFg5zb4i",
        "colab": {
          "base_uri": "https://localhost:8080/"
        },
        "outputId": "736fa5b7-1ca2-4377-da79-26ea2578df4e"
      },
      "source": [
        "predicted"
      ],
      "execution_count": null,
      "outputs": [
        {
          "output_type": "execute_result",
          "data": {
            "text/plain": [
              "array([1, 1, 1, 1, 0, 1, 1, 1, 1, 1, 0, 1, 1, 0, 1, 1, 0, 1, 1, 1, 0, 1,\n",
              "       0, 0, 0, 1, 1, 1, 1, 0, 1, 1, 1, 1, 0, 0, 1, 1, 0, 1, 0, 1, 0, 0,\n",
              "       0, 0, 0, 0, 1, 1, 0, 0, 1, 0, 1, 0, 0, 0, 0, 1, 0, 0, 1, 0, 1, 0,\n",
              "       1, 0, 1, 1, 0, 1, 1, 1, 0, 0, 1, 0, 1, 1, 1, 0, 0, 1, 0, 0, 0, 1,\n",
              "       0, 0, 0, 0, 1, 1, 1, 1, 1, 0, 0, 1, 1, 0, 0, 1, 1, 0, 0, 0, 0, 1,\n",
              "       0, 1, 1, 0, 0, 0, 0, 1, 0, 0, 0, 1, 1, 0, 0, 0, 1, 1, 1, 1, 0, 0,\n",
              "       1, 1, 1, 0, 0, 0, 0, 0, 1, 0, 0, 0, 0, 0, 0, 1, 1, 1, 1, 1, 0, 0,\n",
              "       1, 1, 1, 1, 0, 0, 1, 0, 0])"
            ]
          },
          "metadata": {
            "tags": []
          },
          "execution_count": 21
        }
      ]
    },
    {
      "cell_type": "code",
      "metadata": {
        "id": "9Jrnefphzb4z",
        "colab": {
          "base_uri": "https://localhost:8080/"
        },
        "outputId": "daf5c426-05a5-42bb-8fb9-5efd7cfc40a6"
      },
      "source": [
        "# predict probabilities\n",
        "probs = clf5.predict_proba(X_test)\n",
        "\n",
        "from sklearn.metrics import log_loss\n",
        "loss = log_loss(y_test, probs)\n",
        "print(loss)"
      ],
      "execution_count": null,
      "outputs": [
        {
          "output_type": "stream",
          "text": [
            "0.36479877682201367\n"
          ],
          "name": "stdout"
        }
      ]
    },
    {
      "cell_type": "code",
      "metadata": {
        "id": "bryT9kO5zb5C",
        "colab": {
          "base_uri": "https://localhost:8080/"
        },
        "outputId": "ec66597a-d361-49b4-867f-1cf68d818369"
      },
      "source": [
        "clf6 = GaussianNB()\n",
        "print(cross_val_score(clf6,X,Y,cv=10))\n",
        "clf6=clf6.fit(X_train, y_train)\n",
        "predicted = cross_val_predict(clf6, X_test,y_test, cv=10)\n",
        "# predict probabilities\n",
        "probs = clf6.predict_proba(X_test)\n",
        "\n",
        "from sklearn.metrics import log_loss\n",
        "loss = log_loss(y_test, probs)\n",
        "print(loss)\n",
        "print(\"accuracy\",metrics.accuracy_score(y_test, predicted))\n",
        "print(\"f1 score macro\",metrics.f1_score(y_test, predicted, average='macro'))\n",
        "print(\"f1 score micro\",metrics.f1_score(y_test, predicted, average='micro'))\n",
        "print(\"precision score\",metrics.precision_score(y_test, predicted, average='macro'))\n",
        "print(\"recall score\",metrics.recall_score(y_test, predicted, average='macro'))\n",
        "\n",
        "print(\"classification_report\", metrics.classification_report(y_test, predicted))\n",
        "\n",
        "print(\"Training Score %.4f\"%clf6.score(X_train, y_train))\n",
        "print(\"Testing Score %.4f\"%clf6.score(X_test,y_test))"
      ],
      "execution_count": null,
      "outputs": [
        {
          "output_type": "stream",
          "text": [
            "[0.89090909 0.87272727 0.87272727 0.85185185 0.94444444 0.87037037\n",
            " 0.85185185 0.77777778 0.83333333 0.72222222]\n",
            "0.3625398503246941\n",
            "accuracy 0.8404907975460123\n",
            "f1 score macro 0.8391284542969937\n",
            "f1 score micro 0.8404907975460123\n",
            "precision score 0.8424698795180723\n",
            "recall score 0.8569858712715855\n",
            "classification_report               precision    recall  f1-score   support\n",
            "\n",
            "           0       0.73      0.94      0.82        65\n",
            "           1       0.95      0.78      0.85        98\n",
            "\n",
            "    accuracy                           0.84       163\n",
            "   macro avg       0.84      0.86      0.84       163\n",
            "weighted avg       0.86      0.84      0.84       163\n",
            "\n",
            "Training Score 0.8500\n",
            "Testing Score 0.8528\n"
          ],
          "name": "stdout"
        }
      ]
    },
    {
      "cell_type": "code",
      "metadata": {
        "id": "uTAWsfYjzb5T",
        "colab": {
          "base_uri": "https://localhost:8080/"
        },
        "outputId": "0039b68a-8b57-4b2b-f10d-cfb9720de4ef"
      },
      "source": [
        "#confusion matrix from last decision tree classifier \n",
        "from sklearn.metrics import confusion_matrix\n",
        "accurate = np.array(y_test)\n",
        "predicted1 = np.array(predicted)\n",
        "matrix=confusion_matrix(accurate,predicted1)\n",
        "print(matrix)"
      ],
      "execution_count": null,
      "outputs": [
        {
          "output_type": "stream",
          "text": [
            "[[61  4]\n",
            " [22 76]]\n"
          ],
          "name": "stdout"
        }
      ]
    },
    {
      "cell_type": "code",
      "metadata": {
        "id": "Ej5_k3Ap4rHy",
        "colab": {
          "base_uri": "https://localhost:8080/"
        },
        "outputId": "71cfced2-264c-494f-95e3-66ac11dfbd72"
      },
      "source": [
        "# predict probabilities\n",
        "probs = clf6.predict_proba(X_test)\n",
        "\n",
        "from sklearn.metrics import log_loss\n",
        "loss = log_loss(y_test, probs)\n",
        "print(loss)"
      ],
      "execution_count": null,
      "outputs": [
        {
          "output_type": "stream",
          "text": [
            "0.3625398503246941\n"
          ],
          "name": "stdout"
        }
      ]
    },
    {
      "cell_type": "code",
      "metadata": {
        "id": "x1COr8B3zb52",
        "colab": {
          "base_uri": "https://localhost:8080/",
          "height": 554
        },
        "outputId": "f43945e3-6778-4850-df8a-6c4785c42796"
      },
      "source": [
        "from xgboost import XGBClassifier\n",
        "\n",
        "clf7= XGBClassifier(max_depth=1, eta=0.1,reg_lambda=0.01, reg_alpha=0.1 ,nrounds = 2 )\n",
        "clf7.fit(X_train, y_train)\n",
        "\n",
        "predicted = cross_val_predict(clf7, X_test,y_test, cv=10)\n",
        "# predict probabilities\n",
        "probs = clf7.predict_proba(X_test)\n",
        "\n",
        "from sklearn.metrics import log_loss\n",
        "loss = log_loss(y_test, probs)\n",
        "print(loss)\n",
        "print(\"accuracy\",metrics.accuracy_score(y_test, predicted))\n",
        "print(\"f1 score macro\",metrics.f1_score(y_test, predicted, average='macro'))\n",
        "print(\"f1 score micro\",metrics.f1_score(y_test, predicted, average='micro'))\n",
        "print(\"precision score\",metrics.precision_score(y_test, predicted, average='macro'))\n",
        "print(\"recall score\",metrics.recall_score(y_test, predicted, average='macro'))\n",
        "\n",
        "print(\"classification_report\", metrics.classification_report(y_test, predicted))\n",
        "\n",
        "print(\"Training Score %.4f\"%clf7.score(X_train, y_train))\n",
        "print(\"Testing Score %.4f\"%clf7.score(X_test,y_test))\n",
        "plt.bar(range(len(clf7.feature_importances_)), clf7.feature_importances_)\n",
        "plt.show()"
      ],
      "execution_count": null,
      "outputs": [
        {
          "output_type": "stream",
          "text": [
            "0.30059618128844295\n",
            "accuracy 0.8466257668711656\n",
            "f1 score macro 0.8432270226599469\n",
            "f1 score micro 0.8466257668711656\n",
            "precision score 0.8401913149104161\n",
            "recall score 0.8517268445839874\n",
            "classification_report               precision    recall  f1-score   support\n",
            "\n",
            "           0       0.77      0.88      0.82        65\n",
            "           1       0.91      0.83      0.87        98\n",
            "\n",
            "    accuracy                           0.85       163\n",
            "   macro avg       0.84      0.85      0.84       163\n",
            "weighted avg       0.85      0.85      0.85       163\n",
            "\n",
            "Training Score 0.8658\n",
            "Testing Score 0.8650\n"
          ],
          "name": "stdout"
        },
        {
          "output_type": "display_data",
          "data": {
            "image/png": "[encoded data removed]",
            "text/plain": [
              "<Figure size 432x288 with 1 Axes>"
            ]
          },
          "metadata": {
            "tags": [],
            "needs_background": "light"
          }
        }
      ]
    },
    {
      "cell_type": "code",
      "metadata": {
        "id": "E6K3567L4SHU",
        "colab": {
          "base_uri": "https://localhost:8080/"
        },
        "outputId": "2ecf3817-ca26-4770-bfd2-6d2c44b0ded3"
      },
      "source": [
        "#confusion matrix from last decision tree classifier \n",
        "from sklearn.metrics import confusion_matrix\n",
        "accurate = np.array(y_test)\n",
        "predicted1 = np.array(predicted)\n",
        "matrix=confusion_matrix(accurate,predicted1)\n",
        "print(matrix)"
      ],
      "execution_count": null,
      "outputs": [
        {
          "output_type": "stream",
          "text": [
            "[[57  8]\n",
            " [17 81]]\n"
          ],
          "name": "stdout"
        }
      ]
    },
    {
      "cell_type": "code",
      "metadata": {
        "id": "t5o_81gO4Vq2",
        "colab": {
          "base_uri": "https://localhost:8080/"
        },
        "outputId": "0fc8ffcf-201a-483d-8a91-1c7e152a4635"
      },
      "source": [
        "# predict probabilities\n",
        "probs = clf7.predict_proba(X_test)\n",
        "\n",
        "from sklearn.metrics import log_loss\n",
        "loss = log_loss(y_test, probs)\n",
        "print(loss)"
      ],
      "execution_count": null,
      "outputs": [
        {
          "output_type": "stream",
          "text": [
            "0.30059618128844295\n"
          ],
          "name": "stdout"
        }
      ]
    },
    {
      "cell_type": "code",
      "metadata": {
        "id": "odRZoxDu5EHR",
        "colab": {
          "resources": {
            "http://localhost:8080/nbextensions/google.colab/files.js": {
              "data": "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",
              "ok": true,
              "headers": [
                [
                  "content-type",
                  "application/javascript"
                ]
              ],
              "status": 200,
              "status_text": ""
            }
          },
          "base_uri": "https://localhost:8080/",
          "height": 73
        },
        "outputId": "684ef6e8-998e-408a-d1ea-b4c85f149ce7"
      },
      "source": [
        "from google.colab import files\n",
        "uploaded = files.upload()"
      ],
      "execution_count": null,
      "outputs": [
        {
          "output_type": "display_data",
          "data": {
            "text/html": [
              "\n",
              "     <input type=\"file\" id=\"files-64350e3b-46fb-43d5-8338-93c012ad29cc\" name=\"files[]\" multiple disabled\n",
              "        style=\"border:none\" />\n",
              "     <output id=\"result-64350e3b-46fb-43d5-8338-93c012ad29cc\">\n",
              "      Upload widget is only available when the cell has been executed in the\n",
              "      current browser session. Please rerun this cell to enable.\n",
              "      </output>\n",
              "      <script src=\"/nbextensions/google.colab/files.js\"></script> "
            ],
            "text/plain": [
              "<IPython.core.display.HTML object>"
            ]
          },
          "metadata": {
            "tags": []
          }
        },
        {
          "output_type": "stream",
          "text": [
            "Saving Test.csv to Test.csv\n"
          ],
          "name": "stdout"
        }
      ]
    },
    {
      "cell_type": "code",
      "metadata": {
        "id": "-PZK2no25S_T"
      },
      "source": [
        "import io\n",
        "data = io.BytesIO(uploaded['Test.csv']) "
      ],
      "execution_count": null,
      "outputs": []
    },
    {
      "cell_type": "code",
      "metadata": {
        "id": "1h5qH21Vzb6E",
        "colab": {
          "base_uri": "https://localhost:8080/",
          "height": 204
        },
        "outputId": "17ec5380-29af-429a-bd5d-809f82604758"
      },
      "source": [
        "#Applying the model on the test set\n",
        "test_1 = pd.read_csv('Test.csv', header = 0)\n",
        "test_1.head()"
      ],
      "execution_count": null,
      "outputs": [
        {
          "output_type": "execute_result",
          "data": {
            "text/html": [
              "<div>\n",
              "<style scoped>\n",
              "    .dataframe tbody tr th:only-of-type {\n",
              "        vertical-align: middle;\n",
              "    }\n",
              "\n",
              "    .dataframe tbody tr th {\n",
              "        vertical-align: top;\n",
              "    }\n",
              "\n",
              "    .dataframe thead th {\n",
              "        text-align: right;\n",
              "    }\n",
              "</style>\n",
              "<table border=\"1\" class=\"dataframe\">\n",
              "  <thead>\n",
              "    <tr style=\"text-align: right;\">\n",
              "      <th></th>\n",
              "      <th>City</th>\n",
              "      <th>Location_Score</th>\n",
              "      <th>Internal_Audit_Score</th>\n",
              "      <th>External_Audit_Score</th>\n",
              "      <th>Fin_Score</th>\n",
              "      <th>Loss_score</th>\n",
              "      <th>Past_Results</th>\n",
              "    </tr>\n",
              "  </thead>\n",
              "  <tbody>\n",
              "    <tr>\n",
              "      <th>0</th>\n",
              "      <td>41</td>\n",
              "      <td>18.272</td>\n",
              "      <td>13</td>\n",
              "      <td>12</td>\n",
              "      <td>9</td>\n",
              "      <td>7</td>\n",
              "      <td>0</td>\n",
              "    </tr>\n",
              "    <tr>\n",
              "      <th>1</th>\n",
              "      <td>17</td>\n",
              "      <td>64.799</td>\n",
              "      <td>6</td>\n",
              "      <td>10</td>\n",
              "      <td>7</td>\n",
              "      <td>4</td>\n",
              "      <td>1</td>\n",
              "    </tr>\n",
              "    <tr>\n",
              "      <th>2</th>\n",
              "      <td>31</td>\n",
              "      <td>68.890</td>\n",
              "      <td>3</td>\n",
              "      <td>3</td>\n",
              "      <td>7</td>\n",
              "      <td>8</td>\n",
              "      <td>0</td>\n",
              "    </tr>\n",
              "    <tr>\n",
              "      <th>3</th>\n",
              "      <td>3</td>\n",
              "      <td>16.492</td>\n",
              "      <td>15</td>\n",
              "      <td>10</td>\n",
              "      <td>7</td>\n",
              "      <td>4</td>\n",
              "      <td>1</td>\n",
              "    </tr>\n",
              "    <tr>\n",
              "      <th>4</th>\n",
              "      <td>9</td>\n",
              "      <td>17.178</td>\n",
              "      <td>7</td>\n",
              "      <td>3</td>\n",
              "      <td>8</td>\n",
              "      <td>3</td>\n",
              "      <td>1</td>\n",
              "    </tr>\n",
              "  </tbody>\n",
              "</table>\n",
              "</div>"
            ],
            "text/plain": [
              "   City  Location_Score  ...  Loss_score  Past_Results\n",
              "0    41          18.272  ...           7             0\n",
              "1    17          64.799  ...           4             1\n",
              "2    31          68.890  ...           8             0\n",
              "3     3          16.492  ...           4             1\n",
              "4     9          17.178  ...           3             1\n",
              "\n",
              "[5 rows x 7 columns]"
            ]
          },
          "metadata": {
            "tags": []
          },
          "execution_count": 31
        }
      ]
    },
    {
      "cell_type": "code",
      "metadata": {
        "id": "YSB1pQWzzb6S"
      },
      "source": [
        "feature_cols = test_1[['City','Location_Score','Internal_Audit_Score','External_Audit_Score','Fin_Score']]\n",
        "probs = clf7.predict_proba(feature_cols)"
      ],
      "execution_count": null,
      "outputs": []
    },
    {
      "cell_type": "code",
      "metadata": {
        "id": "hsb3BPnYzb6f",
        "colab": {
          "base_uri": "https://localhost:8080/"
        },
        "outputId": "c40ced48-d2b4-48fb-cf8b-83c39badaa26"
      },
      "source": [
        "probs\n"
      ],
      "execution_count": null,
      "outputs": [
        {
          "output_type": "execute_result",
          "data": {
            "text/plain": [
              "array([[4.44114208e-04, 9.99555886e-01],\n",
              "       [2.25729108e-01, 7.74270892e-01],\n",
              "       [8.35513651e-01, 1.64486364e-01],\n",
              "       [2.35098600e-03, 9.97649014e-01],\n",
              "       [5.13404608e-01, 4.86595362e-01],\n",
              "       [7.01590955e-01, 2.98409045e-01],\n",
              "       [7.85069942e-01, 2.14930087e-01],\n",
              "       [8.35513651e-01, 1.64486364e-01],\n",
              "       [7.05390573e-02, 9.29460943e-01],\n",
              "       [6.12443686e-03, 9.93875563e-01],\n",
              "       [2.99439430e-02, 9.70056057e-01],\n",
              "       [8.29306662e-01, 1.70693338e-01],\n",
              "       [5.13404608e-01, 4.86595362e-01],\n",
              "       [5.68243563e-01, 4.31756437e-01],\n",
              "       [1.16853714e-02, 9.88314629e-01],\n",
              "       [8.35513651e-01, 1.64486364e-01],\n",
              "       [5.93562365e-01, 4.06437635e-01],\n",
              "       [7.26425052e-01, 2.73574948e-01],\n",
              "       [7.05390573e-02, 9.29460943e-01],\n",
              "       [2.49803066e-04, 9.99750197e-01],\n",
              "       [4.58623350e-01, 5.41376650e-01],\n",
              "       [5.93562365e-01, 4.06437635e-01],\n",
              "       [2.16690004e-01, 7.83309996e-01],\n",
              "       [8.20714474e-01, 1.79285511e-01],\n",
              "       [7.25195169e-01, 2.74804831e-01],\n",
              "       [8.46982002e-03, 9.91530180e-01],\n",
              "       [5.13404608e-01, 4.86595362e-01],\n",
              "       [4.44114208e-04, 9.99555886e-01],\n",
              "       [4.64391708e-03, 9.95356083e-01],\n",
              "       [9.00305867e-01, 9.96941477e-02],\n",
              "       [6.65672302e-01, 3.34327728e-01],\n",
              "       [1.40863061e-02, 9.85913694e-01],\n",
              "       [2.99439430e-02, 9.70056057e-01],\n",
              "       [2.49803066e-04, 9.99750197e-01],\n",
              "       [8.02101851e-01, 1.97898135e-01],\n",
              "       [8.20714474e-01, 1.79285511e-01],\n",
              "       [2.49803066e-04, 9.99750197e-01],\n",
              "       [6.46673143e-01, 3.53326857e-01],\n",
              "       [8.24304581e-01, 1.75695390e-01],\n",
              "       [8.02101851e-01, 1.97898135e-01],\n",
              "       [2.28378177e-02, 9.77162182e-01],\n",
              "       [6.46673143e-01, 3.53326857e-01],\n",
              "       [5.25104284e-01, 4.74895746e-01],\n",
              "       [8.21622014e-01, 1.78377986e-01],\n",
              "       [2.49803066e-04, 9.99750197e-01],\n",
              "       [6.65672302e-01, 3.34327728e-01],\n",
              "       [7.93640137e-01, 2.06359833e-01],\n",
              "       [2.49803066e-04, 9.99750197e-01],\n",
              "       [2.86780596e-02, 9.71321940e-01],\n",
              "       [2.67596662e-01, 7.32403338e-01],\n",
              "       [1.32176995e-01, 8.67823005e-01],\n",
              "       [2.99439430e-02, 9.70056057e-01],\n",
              "       [8.35513651e-01, 1.64486364e-01],\n",
              "       [8.46982002e-03, 9.91530180e-01],\n",
              "       [4.58623350e-01, 5.41376650e-01],\n",
              "       [7.56563187e-01, 2.43436798e-01],\n",
              "       [1.89125538e-04, 9.99810874e-01],\n",
              "       [5.75437069e-01, 4.24562931e-01],\n",
              "       [8.35513651e-01, 1.64486364e-01],\n",
              "       [4.03327048e-01, 5.96672952e-01],\n",
              "       [6.46673143e-01, 3.53326857e-01],\n",
              "       [7.54224777e-01, 2.45775223e-01],\n",
              "       [3.28119695e-01, 6.71880305e-01],\n",
              "       [2.67596662e-01, 7.32403338e-01],\n",
              "       [6.46673143e-01, 3.53326857e-01],\n",
              "       [7.45433331e-01, 2.54566669e-01],\n",
              "       [1.67828798e-03, 9.98321712e-01],\n",
              "       [5.80843568e-01, 4.19156432e-01],\n",
              "       [5.13404608e-01, 4.86595362e-01],\n",
              "       [7.86110818e-01, 2.13889167e-01],\n",
              "       [6.60152316e-01, 3.39847654e-01],\n",
              "       [2.49803066e-04, 9.99750197e-01],\n",
              "       [3.46231461e-03, 9.96537685e-01],\n",
              "       [6.67154789e-04, 9.99332845e-01],\n",
              "       [5.13404608e-01, 4.86595362e-01],\n",
              "       [8.98462534e-03, 9.91015375e-01],\n",
              "       [5.13404608e-01, 4.86595362e-01],\n",
              "       [1.67828798e-03, 9.98321712e-01],\n",
              "       [8.02101851e-01, 1.97898135e-01],\n",
              "       [3.46231461e-03, 9.96537685e-01],\n",
              "       [2.49803066e-04, 9.99750197e-01],\n",
              "       [1.73981786e-01, 8.26018214e-01],\n",
              "       [5.28259218e-01, 4.71740782e-01],\n",
              "       [7.45433331e-01, 2.54566669e-01],\n",
              "       [8.35513651e-01, 1.64486364e-01],\n",
              "       [8.35513651e-01, 1.64486364e-01],\n",
              "       [1.89125538e-04, 9.99810874e-01],\n",
              "       [3.28119695e-01, 6.71880305e-01],\n",
              "       [6.22559011e-01, 3.77440989e-01],\n",
              "       [2.67596662e-01, 7.32403338e-01],\n",
              "       [7.45433331e-01, 2.54566669e-01],\n",
              "       [7.49582648e-02, 9.25041735e-01],\n",
              "       [5.20243645e-02, 9.47975636e-01],\n",
              "       [7.45433331e-01, 2.54566669e-01],\n",
              "       [1.60557032e-03, 9.98394430e-01],\n",
              "       [2.35098600e-03, 9.97649014e-01],\n",
              "       [7.36897588e-01, 2.63102442e-01],\n",
              "       [7.45433331e-01, 2.54566669e-01],\n",
              "       [7.26425052e-01, 2.73574948e-01],\n",
              "       [2.28378177e-02, 9.77162182e-01],\n",
              "       [5.13404608e-01, 4.86595362e-01],\n",
              "       [7.45433331e-01, 2.54566669e-01],\n",
              "       [2.49803066e-04, 9.99750197e-01],\n",
              "       [2.79423177e-01, 7.20576823e-01],\n",
              "       [7.21943200e-01, 2.78056800e-01],\n",
              "       [2.49803066e-04, 9.99750197e-01],\n",
              "       [6.22559011e-01, 3.77440989e-01],\n",
              "       [2.49803066e-04, 9.99750197e-01],\n",
              "       [6.46673143e-01, 3.53326857e-01],\n",
              "       [6.28530979e-04, 9.99371469e-01],\n",
              "       [8.43531787e-01, 1.56468213e-01],\n",
              "       [5.13404608e-01, 4.86595362e-01],\n",
              "       [5.43386936e-02, 9.45661306e-01],\n",
              "       [7.45433331e-01, 2.54566669e-01],\n",
              "       [6.52296662e-01, 3.47703338e-01],\n",
              "       [1.73981786e-01, 8.26018214e-01],\n",
              "       [2.49803066e-04, 9.99750197e-01],\n",
              "       [1.82703018e-01, 8.17296982e-01],\n",
              "       [1.46014690e-02, 9.85398531e-01],\n",
              "       [7.35580921e-04, 9.99264419e-01],\n",
              "       [5.28259218e-01, 4.71740782e-01],\n",
              "       [2.35098600e-03, 9.97649014e-01],\n",
              "       [9.00305867e-01, 9.96941477e-02],\n",
              "       [8.21622014e-01, 1.78377986e-01],\n",
              "       [7.45433331e-01, 2.54566669e-01],\n",
              "       [2.49803066e-04, 9.99750197e-01],\n",
              "       [6.46673143e-01, 3.53326857e-01],\n",
              "       [5.20243645e-02, 9.47975636e-01],\n",
              "       [8.33460689e-02, 9.16653931e-01],\n",
              "       [3.17223072e-02, 9.68277693e-01],\n",
              "       [5.80843568e-01, 4.19156432e-01],\n",
              "       [8.35513651e-01, 1.64486364e-01],\n",
              "       [9.00305867e-01, 9.96941477e-02],\n",
              "       [7.85069942e-01, 2.14930087e-01],\n",
              "       [2.35098600e-03, 9.97649014e-01],\n",
              "       [6.12443686e-03, 9.93875563e-01],\n",
              "       [1.40863061e-02, 9.85913694e-01],\n",
              "       [5.13404608e-01, 4.86595362e-01],\n",
              "       [7.56563187e-01, 2.43436798e-01],\n",
              "       [5.89910507e-01, 4.10089493e-01],\n",
              "       [8.98462534e-03, 9.91015375e-01],\n",
              "       [5.80843568e-01, 4.19156432e-01],\n",
              "       [2.99439430e-02, 9.70056057e-01],\n",
              "       [2.79423177e-01, 7.20576823e-01],\n",
              "       [8.02101851e-01, 1.97898135e-01],\n",
              "       [1.06151044e-01, 8.93848956e-01],\n",
              "       [2.65181065e-04, 9.99734819e-01],\n",
              "       [2.49803066e-04, 9.99750197e-01],\n",
              "       [5.75437069e-01, 4.24562931e-01],\n",
              "       [7.36897588e-01, 2.63102442e-01],\n",
              "       [1.60557032e-03, 9.98394430e-01],\n",
              "       [6.52296662e-01, 3.47703338e-01],\n",
              "       [6.60152316e-01, 3.39847654e-01],\n",
              "       [8.20714474e-01, 1.79285511e-01],\n",
              "       [1.22593522e-01, 8.77406478e-01],\n",
              "       [4.87404704e-01, 5.12595296e-01],\n",
              "       [5.13404608e-01, 4.86595362e-01],\n",
              "       [1.67828798e-03, 9.98321712e-01],\n",
              "       [1.70815527e-01, 8.29184473e-01],\n",
              "       [3.46231461e-03, 9.96537685e-01],\n",
              "       [1.89125538e-04, 9.99810874e-01],\n",
              "       [8.35513651e-01, 1.64486364e-01],\n",
              "       [7.93640137e-01, 2.06359833e-01],\n",
              "       [3.28119695e-01, 6.71880305e-01],\n",
              "       [2.99439430e-02, 9.70056057e-01],\n",
              "       [5.13404608e-01, 4.86595362e-01],\n",
              "       [5.28259218e-01, 4.71740782e-01],\n",
              "       [3.17223072e-02, 9.68277693e-01],\n",
              "       [4.44114208e-04, 9.99555886e-01],\n",
              "       [7.56563187e-01, 2.43436798e-01],\n",
              "       [2.49803066e-04, 9.99750197e-01],\n",
              "       [4.64391708e-03, 9.95356083e-01],\n",
              "       [2.65181065e-04, 9.99734819e-01],\n",
              "       [7.45433331e-01, 2.54566669e-01],\n",
              "       [7.06714213e-01, 2.93285787e-01],\n",
              "       [1.06151044e-01, 8.93848956e-01],\n",
              "       [4.17730808e-01, 5.82269192e-01],\n",
              "       [3.12137604e-03, 9.96878624e-01],\n",
              "       [1.59857571e-01, 8.40142429e-01],\n",
              "       [3.12137604e-03, 9.96878624e-01],\n",
              "       [2.49803066e-04, 9.99750197e-01],\n",
              "       [2.08464086e-01, 7.91535914e-01],\n",
              "       [3.17223072e-02, 9.68277693e-01],\n",
              "       [5.13404608e-01, 4.86595362e-01],\n",
              "       [6.89159513e-01, 3.10840517e-01],\n",
              "       [6.46673143e-01, 3.53326857e-01],\n",
              "       [2.49803066e-04, 9.99750197e-01],\n",
              "       [2.49803066e-04, 9.99750197e-01],\n",
              "       [2.65181065e-04, 9.99734819e-01],\n",
              "       [7.05390573e-02, 9.29460943e-01],\n",
              "       [7.45433331e-01, 2.54566669e-01],\n",
              "       [6.60152316e-01, 3.39847654e-01],\n",
              "       [2.25729108e-01, 7.74270892e-01],\n",
              "       [1.40863061e-02, 9.85913694e-01],\n",
              "       [2.99439430e-02, 9.70056057e-01],\n",
              "       [2.99439430e-02, 9.70056057e-01],\n",
              "       [7.01590955e-01, 2.98409045e-01],\n",
              "       [3.81406546e-02, 9.61859345e-01],\n",
              "       [1.89125538e-04, 9.99810874e-01],\n",
              "       [9.00305867e-01, 9.96941477e-02],\n",
              "       [2.49803066e-04, 9.99750197e-01],\n",
              "       [6.46673143e-01, 3.53326857e-01],\n",
              "       [1.16853714e-02, 9.88314629e-01],\n",
              "       [2.99439430e-02, 9.70056057e-01],\n",
              "       [2.21544504e-03, 9.97784555e-01],\n",
              "       [7.77155399e-01, 2.22844630e-01],\n",
              "       [3.28119695e-01, 6.71880305e-01],\n",
              "       [5.51232696e-02, 9.44876730e-01],\n",
              "       [6.46673143e-01, 3.53326857e-01],\n",
              "       [2.99439430e-02, 9.70056057e-01],\n",
              "       [5.93562365e-01, 4.06437635e-01],\n",
              "       [2.35098600e-03, 9.97649014e-01],\n",
              "       [5.28259218e-01, 4.71740782e-01],\n",
              "       [2.70656347e-02, 9.72934365e-01],\n",
              "       [8.02101851e-01, 1.97898135e-01],\n",
              "       [2.99439430e-02, 9.70056057e-01],\n",
              "       [8.43531787e-01, 1.56468213e-01],\n",
              "       [5.28259218e-01, 4.71740782e-01],\n",
              "       [5.93562365e-01, 4.06437635e-01],\n",
              "       [9.00305867e-01, 9.96941477e-02],\n",
              "       [5.93562365e-01, 4.06437635e-01],\n",
              "       [2.47888982e-01, 7.52111018e-01],\n",
              "       [8.43531787e-01, 1.56468213e-01],\n",
              "       [5.13404608e-01, 4.86595362e-01],\n",
              "       [6.93082809e-04, 9.99306917e-01],\n",
              "       [2.25729108e-01, 7.74270892e-01],\n",
              "       [4.58623350e-01, 5.41376650e-01],\n",
              "       [3.17223072e-02, 9.68277693e-01],\n",
              "       [8.11381042e-01, 1.88618958e-01],\n",
              "       [3.41374338e-01, 6.58625662e-01],\n",
              "       [5.28259218e-01, 4.71740782e-01],\n",
              "       [2.65181065e-04, 9.99734819e-01],\n",
              "       [8.78135622e-01, 1.21864371e-01]], dtype=float32)"
            ]
          },
          "metadata": {
            "tags": []
          },
          "execution_count": 33
        }
      ]
    },
    {
      "cell_type": "code",
      "metadata": {
        "id": "SZSSRzIuzb66",
        "colab": {
          "base_uri": "https://localhost:8080/"
        },
        "outputId": "4f1dea9d-87ba-4abf-fdd9-ae637a42593f"
      },
      "source": [
        "np.shape(probs)"
      ],
      "execution_count": null,
      "outputs": [
        {
          "output_type": "execute_result",
          "data": {
            "text/plain": [
              "(233, 2)"
            ]
          },
          "metadata": {
            "tags": []
          },
          "execution_count": 34
        }
      ]
    },
    {
      "cell_type": "code",
      "metadata": {
        "id": "GZnZqZlOzb7O"
      },
      "source": [
        "test_file = pd.DataFrame({'0':probs[:,0],'1':probs[:,1]})"
      ],
      "execution_count": null,
      "outputs": []
    },
    {
      "cell_type": "code",
      "metadata": {
        "id": "lQZcX09t6QDa",
        "colab": {
          "base_uri": "https://localhost:8080/",
          "height": 17
        },
        "outputId": "03731367-3b71-4065-a08a-19fd401afbcd"
      },
      "source": [
        "from google.colab import files\n",
        "test_file.to_excel('test8.xlsx', index=False) \n",
        "files.download('test8.xlsx')"
      ],
      "execution_count": null,
      "outputs": [
        {
          "output_type": "display_data",
          "data": {
            "application/javascript": [
              "\n",
              "    async function download(id, filename, size) {\n",
              "      if (!google.colab.kernel.accessAllowed) {\n",
              "        return;\n",
              "      }\n",
              "      const div = document.createElement('div');\n",
              "      const label = document.createElement('label');\n",
              "      label.textContent = `Downloading \"${filename}\": `;\n",
              "      div.appendChild(label);\n",
              "      const progress = document.createElement('progress');\n",
              "      progress.max = size;\n",
              "      div.appendChild(progress);\n",
              "      document.body.appendChild(div);\n",
              "\n",
              "      const buffers = [];\n",
              "      let downloaded = 0;\n",
              "\n",
              "      const channel = await google.colab.kernel.comms.open(id);\n",
              "      // Send a message to notify the kernel that we're ready.\n",
              "      channel.send({})\n",
              "\n",
              "      for await (const message of channel.messages) {\n",
              "        // Send a message to notify the kernel that we're ready.\n",
              "        channel.send({})\n",
              "        if (message.buffers) {\n",
              "          for (const buffer of message.buffers) {\n",
              "            buffers.push(buffer);\n",
              "            downloaded += buffer.byteLength;\n",
              "            progress.value = downloaded;\n",
              "          }\n",
              "        }\n",
              "      }\n",
              "      const blob = new Blob(buffers, {type: 'application/binary'});\n",
              "      const a = document.createElement('a');\n",
              "      a.href = window.URL.createObjectURL(blob);\n",
              "      a.download = filename;\n",
              "      div.appendChild(a);\n",
              "      a.click();\n",
              "      div.remove();\n",
              "    }\n",
              "  "
            ],
            "text/plain": [
              "<IPython.core.display.Javascript object>"
            ]
          },
          "metadata": {
            "tags": []
          }
        },
        {
          "output_type": "display_data",
          "data": {
            "application/javascript": [
              "download(\"download_8e3d7a3e-604f-4ebd-85b8-d01b929b85dd\", \"test8.xlsx\", 9478)"
            ],
            "text/plain": [
              "<IPython.core.display.Javascript object>"
            ]
          },
          "metadata": {
            "tags": []
          }
        }
      ]
    }
  ]
}